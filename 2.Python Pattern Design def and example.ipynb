{
 "cells": [
  {
   "cell_type": "markdown",
   "id": "c6157c19-4a76-4721-a281-502b3b001dba",
   "metadata": {},
   "source": [
    "# Definition & Types"
   ]
  },
  {
   "cell_type": "markdown",
   "id": "97857775-6bb5-41f1-9c8c-351d2bcbe44c",
   "metadata": {},
   "source": [
    "Def : Design patterns are reusable solutions to common problems in software design. They help improve code maintainability, scalability, and efficiency.\n",
    "\n",
    "Types of Design Patterns\n",
    "three categories:\n",
    "\n",
    "1. Creational Patterns – Handle object creation efficiently.\n",
    "2. Structural Patterns – Deal with the structure and composition of classes/objects.\n",
    "3. Behavioral Patterns – Define how objects interact and distribute responsibilities."
   ]
  },
  {
   "cell_type": "markdown",
   "id": "3f1b508d-8f76-423d-9c5f-86ac193f9f79",
   "metadata": {},
   "source": [
    "Category\t Design Patterns\t                      Purpose\n",
    "Creational\t Singleton, Factory, Builder, Prototype\t  Object creation\n",
    "Structural\t Adapter, Decorator, Composite, Proxy\t  Organizing structure\n",
    "Behavioral\t Observer, Strategy, Command, State\t      Object communication"
   ]
  },
  {
   "cell_type": "markdown",
   "id": "668af0fd-6928-486f-9e75-9f9d7cde04c6",
   "metadata": {},
   "source": [
    "# 🔹 1. Creational Patterns (Object Creation)\n",
    "# 1️⃣ Singleton Pattern\n",
    "Ensures only one instance of a class exists and provides a global access point.\n",
    "✔ Single Instance – Only one object is created for the class.\n",
    "✔ Global Access – The same instance is accessible everywhere.\n",
    "✔ Thread-Safe Implementation (in advanced cases)."
   ]
  },
  {
   "cell_type": "code",
   "execution_count": 27,
   "id": "942ab72c-a915-4ffb-a03e-169d19828b5b",
   "metadata": {},
   "outputs": [
    {
     "name": "stdout",
     "output_type": "stream",
     "text": [
      "True\n"
     ]
    }
   ],
   "source": [
    "class Singleton:\n",
    "    _instance= None    #_instance protected variable ja initially None,kon value rakhini\n",
    "\n",
    "    def __new__(cls):\n",
    "        if cls._instance is None:\n",
    "            cls._instance = super(Singleton,cls).__new__(cls)\n",
    "        return cls._instance\n",
    "\n",
    "obj1=Singleton()\n",
    "obj2=Singleton()\n",
    "print(obj1 is obj2)"
   ]
  },
  {
   "cell_type": "markdown",
   "id": "97d961b0-4cb4-4560-b108-8b1dd4f08676",
   "metadata": {},
   "source": [
    "# 2️⃣ Factory Pattern\n",
    "Creates objects without exposing the instantiation logic to the client.\n",
    "✔ Encapsulates Object Creation – Clients don’t need to know how objects are created.\n",
    "✔ Promotes Loose Coupling – The client only depends on an interface, not concrete classes.\n",
    "✔ Enhances Code Reusability – Simplifies object creation logic."
   ]
  },
  {
   "cell_type": "code",
   "execution_count": 28,
   "id": "3dc48631-8b2b-484a-94cb-3b5de6961239",
   "metadata": {},
   "outputs": [
    {
     "name": "stdout",
     "output_type": "stream",
     "text": [
      "Woof!\n"
     ]
    }
   ],
   "source": [
    "class Dog:\n",
    "    def speak(self): return \"Woof!\"\n",
    "\n",
    "class Cat:\n",
    "    def speak(self): return \"Meow!\"\n",
    "\n",
    "class AnimalFactory:\n",
    "    @staticmethod\n",
    "    def get_animal(animal_type):\n",
    "        return Dog() if animal_type == \"dog\" else Cat()\n",
    "\n",
    "# Usage\n",
    "animal = AnimalFactory.get_animal(\"dog\")\n",
    "print(animal.speak())  # Woof!"
   ]
  },
  {
   "cell_type": "markdown",
   "id": "23077bfc-151f-4325-a132-d8bf9962c2c3",
   "metadata": {},
   "source": [
    "# 3️⃣ Builder Pattern\n",
    "Separates the construction of an object from its representation."
   ]
  },
  {
   "cell_type": "code",
   "execution_count": 29,
   "id": "59f770e9-dda3-46ef-9018-8c574cc23af2",
   "metadata": {},
   "outputs": [
    {
     "name": "stdout",
     "output_type": "stream",
     "text": [
      "['Engine', 'Wheel']\n"
     ]
    }
   ],
   "source": [
    "class Car:\n",
    "    def __init__(self): self.parts=[]\n",
    "    def add_part(self,part): self.parts.append(part)\n",
    "    def show_parts(self): return self.parts\n",
    "\n",
    "class Car_Builder:\n",
    "    def __init__(self): self.car = Car()\n",
    "    def add_engine(self): self.car.add_part(\"Engine\"); return self\n",
    "    def add_wheel(self): self.car.add_part(\"Wheel\"); return self\n",
    "    def builder(self): return self.car\n",
    "\n",
    "car=Car_Builder().add_engine().add_wheel().builder()\n",
    "print(car.show_parts())\n"
   ]
  },
  {
   "cell_type": "markdown",
   "id": "266daef4-62e9-4470-b9be-044ad3f070e4",
   "metadata": {},
   "source": [
    "# 🔹 2. Structural Patterns (Object Composition)\n",
    "# 4️⃣ Adapter Pattern\n",
    "Allows incompatible interfaces to work together.বেমানান ইন্টারফেসগুলি একসাথে কাজ করার অনুমতি দেয়"
   ]
  },
  {
   "cell_type": "code",
   "execution_count": 30,
   "id": "2d61c390-5727-4c1c-be7d-9c23fa331b86",
   "metadata": {},
   "outputs": [
    {
     "name": "stdout",
     "output_type": "stream",
     "text": [
      "Old Printer Output\n"
     ]
    }
   ],
   "source": [
    "class OldPrinter:\n",
    "    def print_old(self): return \"Old Printer Output\"\n",
    "\n",
    "class Adapter:\n",
    "    def __init__(self, old_printer): self.old_printer = old_printer\n",
    "    def print_new(self): return self.old_printer.print_old()\n",
    "\n",
    "adapter = Adapter(OldPrinter())\n",
    "print(adapter.print_new())  # Old Printer Output\n"
   ]
  },
  {
   "cell_type": "markdown",
   "id": "2b1279dd-1845-45b0-9586-335ac29525d6",
   "metadata": {},
   "source": [
    "# 5️⃣ Decorator Pattern\n",
    "Adds behavior dynamically to objects."
   ]
  },
  {
   "cell_type": "code",
   "execution_count": 31,
   "id": "657b31d6-2166-4033-8701-39fc7307932e",
   "metadata": {},
   "outputs": [
    {
     "name": "stdout",
     "output_type": "stream",
     "text": [
      "<b>Hello!</b>\n"
     ]
    }
   ],
   "source": [
    "def bold_decorator(func):\n",
    "    def wrapper(): return \"<b>\" + func() + \"</b>\"\n",
    "    return wrapper\n",
    "\n",
    "@bold_decorator\n",
    "def say_hello(): return \"Hello!\"\n",
    "\n",
    "print(say_hello())  # <b>Hello!</b>\n"
   ]
  },
  {
   "cell_type": "markdown",
   "id": "6a67642a-2522-47dd-a1dc-2e483801e888",
   "metadata": {},
   "source": [
    "# Decorator @log with Metaclass in Python\n",
    "Step 1: Create a log Decorator\n",
    "The @log decorator will wrap a function and print its name and arguments whenever it is called."
   ]
  },
  {
   "cell_type": "code",
   "execution_count": 32,
   "id": "16fb9b4a-950c-4dfd-9c4f-30ba34217d98",
   "metadata": {},
   "outputs": [],
   "source": [
    "def log(func):\n",
    "    \"\"\"Decorator to log function calls.\"\"\"\n",
    "    def wrapper(*args, **kwargs):\n",
    "        print(f\"Calling {func.__name__} with args={args} kwargs={kwargs}\")\n",
    "        result = func(*args, **kwargs)\n",
    "        print(f\"{func.__name__} returned {result}\")\n",
    "        return result\n",
    "    return wrapper"
   ]
  },
  {
   "cell_type": "markdown",
   "id": "1ad5d647-c8fc-444e-beca-0832c20cc859",
   "metadata": {},
   "source": [
    "Step 2: Define a Metaclass to Apply @log Automatically\n",
    "A metaclass controls the creation of classes. Here, we modify class methods dynamically by applying the @log decorator to all functions."
   ]
  },
  {
   "cell_type": "code",
   "execution_count": 33,
   "id": "df6b8bde-5a3b-400c-b9fa-59c8575a532a",
   "metadata": {},
   "outputs": [],
   "source": [
    "class LogMeta(type):\n",
    "    \"\"\"Metaclass that applies @log to all methods of a class.\"\"\"\n",
    "    def __new__(cls, name, bases, class_dict):\n",
    "        for attr_name, attr_value in class_dict.items():\n",
    "            if callable(attr_value):  # Check if it is a method\n",
    "                class_dict[attr_name] = log(attr_value)  # Apply @log decorator\n",
    "        return super().__new__(cls, name, bases, class_dict)"
   ]
  },
  {
   "cell_type": "markdown",
   "id": "979909af-86b1-456b-bf2a-927b522341dd",
   "metadata": {},
   "source": [
    "# Step 4: Use the Class\n",
    "# 6️⃣ Proxy Pattern\n",
    "Controls access to an object."
   ]
  },
  {
   "cell_type": "code",
   "execution_count": 34,
   "id": "18ef9007-a66e-4ccd-a132-6684e3136915",
   "metadata": {},
   "outputs": [
    {
     "name": "stdout",
     "output_type": "stream",
     "text": [
      "Real Subject Handling Request\n"
     ]
    }
   ],
   "source": [
    "class Real_subject:\n",
    "    def request(self): return \"Real Subject Handling Request\"\n",
    "\n",
    "class Proxy:\n",
    "    def __init__(self): self.real_sub = Real_subject()\n",
    "    def request(self): return self.real_sub.request()\n",
    "\n",
    "proxy=Proxy()\n",
    "print(proxy.request())"
   ]
  },
  {
   "cell_type": "markdown",
   "id": "803aef13-235a-478e-9497-0ea19bb55792",
   "metadata": {},
   "source": [
    "# 🔹 3. Behavioral Patterns (Communication & Responsibilities)\n",
    "# 7️⃣ Observer Pattern\n",
    "Defines a dependency so that when one object changes state, all its dependents are notified.\n",
    "These patterns define how objects communicate."
   ]
  },
  {
   "cell_type": "code",
   "execution_count": 35,
   "id": "296ac789-e1eb-4bc9-be35-31f61b9c344e",
   "metadata": {},
   "outputs": [
    {
     "name": "stdout",
     "output_type": "stream",
     "text": [
      "Received: Update Available!\n",
      "Received: Update Available!\n"
     ]
    }
   ],
   "source": [
    "class Observer:\n",
    "    def update(self, msg): print(f\"Received: {msg}\")\n",
    "\n",
    "class Subject:\n",
    "    def __init__(self): self.observers = []\n",
    "    def attach(self, obs): self.observers.append(obs)\n",
    "    def notify(self, msg):\n",
    "        for obs in self.observers: obs.update(msg)\n",
    "\n",
    "# Usage\n",
    "subject = Subject()\n",
    "observer1 = Observer()\n",
    "observer2 = Observer()\n",
    "\n",
    "subject.attach(observer1)\n",
    "subject.attach(observer2)\n",
    "subject.notify(\"Update Available!\")\n"
   ]
  },
  {
   "cell_type": "markdown",
   "id": "07c9b8f7-e71a-4b15-9854-ef114ed7085a",
   "metadata": {},
   "source": [
    "# 8️⃣ Strategy Pattern\n",
    "Defines a family of algorithms and makes them interchangeable."
   ]
  },
  {
   "cell_type": "code",
   "execution_count": 36,
   "id": "9d5310c0-efd4-4e02-8b84-e9644cbf4adc",
   "metadata": {},
   "outputs": [
    {
     "name": "stdout",
     "output_type": "stream",
     "text": [
      "Using Strategy A\n",
      "Using Strategy B\n"
     ]
    }
   ],
   "source": [
    "class StrategyA:\n",
    "    def execute(self): return \"Using Strategy A\"\n",
    "\n",
    "class StrategyB:\n",
    "    def execute(self): return \"Using Strategy B\"\n",
    "\n",
    "class Context:\n",
    "    def __init__(self, strategy): self.strategy = strategy\n",
    "    def set_strategy(self, strategy): self.strategy = strategy\n",
    "    def execute_strategy(self): return self.strategy.execute()\n",
    "\n",
    "# Usage\n",
    "context = Context(StrategyA())\n",
    "print(context.execute_strategy())  # Using Strategy A\n",
    "context.set_strategy(StrategyB())\n",
    "print(context.execute_strategy())  # Using Strategy B\n"
   ]
  },
  {
   "cell_type": "markdown",
   "id": "23bf0fc4-27a1-4457-9b0a-a9d654876a4f",
   "metadata": {},
   "source": [
    "# 9️⃣ Command Pattern\n",
    "Encapsulates a request as an object."
   ]
  },
  {
   "cell_type": "code",
   "execution_count": 37,
   "id": "04a56227-dc0b-413f-be86-70190231a0f0",
   "metadata": {},
   "outputs": [
    {
     "name": "stdout",
     "output_type": "stream",
     "text": [
      "Light is On.\n"
     ]
    }
   ],
   "source": [
    "class Command:\n",
    "    def execute(self):pass\n",
    "\n",
    "class Light_on_Command(Command):\n",
    "    def execute(self): return \"Light is On.\"\n",
    "\n",
    "class Light_off_Command(Command):\n",
    "    def execute(self): return \"Light is Off.\"\n",
    "\n",
    "class Remote:\n",
    "    def __init__(self):self.command=None\n",
    "    def set_command(self,command):self.command=command\n",
    "    def press_button(self):return self.command.execute()\n",
    "\n",
    "remote = Remote()\n",
    "remote.set_command(Light_on_Command())\n",
    "print(remote.press_button())"
   ]
  },
  {
   "cell_type": "markdown",
   "id": "6503bf07-d316-4065-bf7a-4cb2cdfca17e",
   "metadata": {},
   "source": [
    "# Advance python"
   ]
  },
  {
   "cell_type": "code",
   "execution_count": 38,
   "id": "e3c7e9ce-a221-46eb-aff2-e1c455b06086",
   "metadata": {},
   "outputs": [
    {
     "name": "stdout",
     "output_type": "stream",
     "text": [
      "<__main__.A object at 0x00000148B2F459A0>\n"
     ]
    }
   ],
   "source": [
    "class Meta(type):\n",
    "    def __new__(cls, *args, **kwargs):\n",
    "        return super(Meta,cls).__new__(cls, *args, **kwargs)\n",
    "\n",
    "    def __init__(self, *args, **kwargs):\n",
    "        super(Meta, self).__init__(*args, **kwargs)\n",
    "\n",
    "class A(metaclass=Meta):\n",
    "    def __init__(self):\n",
    "        pass\n",
    "\n",
    "a= A()\n",
    "print(a)"
   ]
  },
  {
   "cell_type": "markdown",
   "id": "03a0c813-fe54-44a8-a14b-627d67464f21",
   "metadata": {},
   "source": [
    "# When to Use Facade Pattern"
   ]
  },
  {
   "cell_type": "markdown",
   "id": "144b73a6-0621-4ba5-a050-9553ddbf1f30",
   "metadata": {},
   "source": [
    "✅ When you want to simplify interactions – Instead of dealing with multiple subsystems, you expose a simple API.\n",
    "✅ When you want to reduce dependencies – Clients only need to communicate with the Facade, not the internal classes.\n",
    "✅ When working with complex libraries or frameworks – Facades provide a clear interface, making interactions easier."
   ]
  },
  {
   "cell_type": "code",
   "execution_count": 39,
   "id": "b7a738fe-ab37-4916-8a51-19609d6c6ef4",
   "metadata": {},
   "outputs": [
    {
     "name": "stdout",
     "output_type": "stream",
     "text": [
      "Lights are dimmed for movie mode\n",
      "TV is turned ON\n",
      "Sound System is turned ON\n",
      "DVD Player is turned ON\n",
      "DVD Player is playing a movie\n",
      "\n",
      "--- Movie Ended ---\n",
      "\n",
      "DVD Player is turned OFF\n",
      "Sound System is turned OFF\n",
      "TV is turned OFF\n",
      "Lights are bright\n"
     ]
    }
   ],
   "source": [
    "class TV:\n",
    "    def on(self):\n",
    "        return \"TV is turned ON\"\n",
    "    \n",
    "    def off(self):\n",
    "        return \"TV is turned OFF\"\n",
    "\n",
    "class SoundSystem:\n",
    "    def on(self):\n",
    "        return \"Sound System is turned ON\"\n",
    "    \n",
    "    def off(self):\n",
    "        return \"Sound System is turned OFF\"\n",
    "\n",
    "class DVDPlayer:\n",
    "    def on(self):\n",
    "        return \"DVD Player is turned ON\"\n",
    "    \n",
    "    def play(self):\n",
    "        return \"DVD Player is playing a movie\"\n",
    "\n",
    "    def off(self):\n",
    "        return \"DVD Player is turned OFF\"\n",
    "\n",
    "class Lights:\n",
    "    def dim(self):\n",
    "        return \"Lights are dimmed for movie mode\"\n",
    "    \n",
    "    def bright(self):\n",
    "        return \"Lights are bright\"\n",
    "#######################################\n",
    "class HomeTheaterFacade:\n",
    "    def __init__(self):\n",
    "        self.tv = TV()\n",
    "        self.sound = SoundSystem()\n",
    "        self.dvd = DVDPlayer()\n",
    "        self.lights = Lights()\n",
    "\n",
    "    def watch_movie(self):\n",
    "        return [\n",
    "            self.lights.dim(),\n",
    "            self.tv.on(),\n",
    "            self.sound.on(),\n",
    "            self.dvd.on(),\n",
    "            self.dvd.play()\n",
    "        ]\n",
    "\n",
    "    def end_movie(self):\n",
    "        return [\n",
    "            self.dvd.off(),\n",
    "            self.sound.off(),\n",
    "            self.tv.off(),\n",
    "            self.lights.bright()\n",
    "        ]\n",
    "#############\n",
    "# Creating an instance of the Facade\n",
    "home_theater = HomeTheaterFacade()\n",
    "\n",
    "# Watching a movie (simplified interface)\n",
    "for action in home_theater.watch_movie():\n",
    "    print(action)\n",
    "\n",
    "print(\"\\n--- Movie Ended ---\\n\")\n",
    "\n",
    "# Ending the movie (simplified interface)\n",
    "for action in home_theater.end_movie():\n",
    "    print(action)\n"
   ]
  },
  {
   "cell_type": "code",
   "execution_count": null,
   "id": "c7be2e11-ce37-4561-ae60-aa51d0b80417",
   "metadata": {},
   "outputs": [],
   "source": []
  }
 ],
 "metadata": {
  "kernelspec": {
   "display_name": "Python 3 (ipykernel)",
   "language": "python",
   "name": "python3"
  },
  "language_info": {
   "codemirror_mode": {
    "name": "ipython",
    "version": 3
   },
   "file_extension": ".py",
   "mimetype": "text/x-python",
   "name": "python",
   "nbconvert_exporter": "python",
   "pygments_lexer": "ipython3",
   "version": "3.12.8"
  }
 },
 "nbformat": 4,
 "nbformat_minor": 5
}
