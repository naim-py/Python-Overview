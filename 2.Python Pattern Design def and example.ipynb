{
 "cells": [
  {
   "cell_type": "markdown",
   "id": "c6157c19-4a76-4721-a281-502b3b001dba",
   "metadata": {},
   "source": [
    "# Definition & Types"
   ]
  },
  {
   "cell_type": "raw",
   "id": "dd5ae516-7a50-4e8c-a155-c7da46925765",
   "metadata": {},
   "source": [
    "Def : Design patterns are reusable solutions to common problems in software design. They help improve code maintainability, scalability, and efficiency.\n",
    "\n",
    "Types of Design Patterns\n",
    "Design patterns are broadly classified into three categories:\n",
    "\n",
    "1. Creational Patterns – Handle object creation efficiently.\n",
    "2. Structural Patterns – Deal with the structure and composition of classes/objects.\n",
    "3. Behavioral Patterns – Define how objects interact and distribute responsibilities."
   ]
  },
  {
   "cell_type": "raw",
   "id": "bef1c2e7-6c2b-4cbb-8240-e428d9349f2f",
   "metadata": {},
   "source": [
    "Category\t Design Patterns\t                      Purpose\n",
    "Creational\t Singleton, Factory, Builder, Prototype\t  Object creation\n",
    "Structural\t Adapter, Decorator, Composite, Proxy\t  Organizing structure\n",
    "Behavioral\t Observer, Strategy, Command, State\t      Object communication"
   ]
  },
  {
   "cell_type": "markdown",
   "id": "09c87aee-625f-4460-b529-22d505c66ff5",
   "metadata": {},
   "source": [
    "# Key Features of Singleton Pattern\n",
    "✔ Single Instance – Only one object is created for the class.\n",
    "✔ Global Access – The same instance is accessible everywhere.\n",
    "✔ Thread-Safe Implementation (in advanced cases)."
   ]
  },
  {
   "cell_type": "markdown",
   "id": "668af0fd-6928-486f-9e75-9f9d7cde04c6",
   "metadata": {},
   "source": [
    "# 1.Creational Design Patterns: Create Object successfully"
   ]
  },
  {
   "cell_type": "code",
   "execution_count": 8,
   "id": "942ab72c-a915-4ffb-a03e-169d19828b5b",
   "metadata": {},
   "outputs": [
    {
     "name": "stdout",
     "output_type": "stream",
     "text": [
      "True\n"
     ]
    }
   ],
   "source": [
    "class Singleton:\n",
    "    _instance= None    #_instance protected variable ja initially None,kon value rakhini\n",
    "\n",
    "    def __new__(cls):\n",
    "        if cls._instance is None:\n",
    "            cls._instance = super(Singleton,cls).__new__(cls)\n",
    "        return cls._instance\n",
    "\n",
    "obj1=Singleton()\n",
    "obj2=Singleton()\n",
    "print(obj1 is obj2)"
   ]
  },
  {
   "cell_type": "markdown",
   "id": "97d961b0-4cb4-4560-b108-8b1dd4f08676",
   "metadata": {},
   "source": [
    "# Key Features of Factory Pattern"
   ]
  },
  {
   "cell_type": "raw",
   "id": "c41e5bdb-c6b9-41b2-a1b2-d50a04b4a05e",
   "metadata": {},
   "source": [
    "✔ Encapsulates Object Creation – Clients don’t need to know how objects are created.\n",
    "✔ Promotes Loose Coupling – The client only depends on an interface, not concrete classes.\n",
    "✔ Enhances Code Reusability – Simplifies object creation logic."
   ]
  },
  {
   "cell_type": "code",
   "execution_count": 17,
   "id": "59f770e9-dda3-46ef-9018-8c574cc23af2",
   "metadata": {},
   "outputs": [
    {
     "name": "stdout",
     "output_type": "stream",
     "text": [
      "Drawing a Circle\n",
      "Drawing a Square\n"
     ]
    }
   ],
   "source": [
    "# Step 1: Define an interface (abstract class)\n",
    "class Shape:\n",
    "    def draw(self):\n",
    "        pass  # This method will be implemented by subclasses\n",
    "\n",
    "# Step 2: Define concrete classes\n",
    "class Circle(Shape):\n",
    "    def draw(self):\n",
    "        return \"Drawing a Circle\"\n",
    "\n",
    "class Square(Shape):\n",
    "    def draw(self):\n",
    "        return \"Drawing a Square\"\n",
    "\n",
    "# Step 3: Create the Factory Class\n",
    "class ShapeFactory:\n",
    "    @staticmethod\n",
    "    def get_shape(shape_type):\n",
    "        if shape_type == \"circle\":\n",
    "            return Circle()\n",
    "        elif shape_type == \"square\":\n",
    "            return Square()\n",
    "        else:\n",
    "            return None  # If the shape type is unknown\n",
    "\n",
    "# Usage\n",
    "shape1 = ShapeFactory.get_shape(\"circle\")\n",
    "print(shape1.draw())  # Output: Drawing a Circle\n",
    "\n",
    "shape2 = ShapeFactory.get_shape(\"square\")\n",
    "print(shape2.draw())  # Output: Drawing a Square"
   ]
  },
  {
   "cell_type": "markdown",
   "id": "266daef4-62e9-4470-b9be-044ad3f070e4",
   "metadata": {},
   "source": [
    "# 2. Structural Design Patterns"
   ]
  },
  {
   "cell_type": "code",
   "execution_count": 9,
   "id": "2d61c390-5727-4c1c-be7d-9c23fa331b86",
   "metadata": {},
   "outputs": [
    {
     "name": "stdout",
     "output_type": "stream",
     "text": [
      "Old Printer: Hello!\n"
     ]
    }
   ],
   "source": [
    "class OldPrinter:\n",
    "    def print_text(self, text):\n",
    "        return f\"Old Printer: {text}\"\n",
    "\n",
    "class NewPrinter:\n",
    "    def modern_print(self, text):\n",
    "        return f\"New Printer: {text}\"\n",
    "\n",
    "class PrinterAdapter:\n",
    "    def __init__(self, old_printer):\n",
    "        self.old_printer = old_printer\n",
    "\n",
    "    def modern_print(self, text):\n",
    "        return self.old_printer.print_text(text)\n",
    "\n",
    "# Usage\n",
    "old_printer = OldPrinter()\n",
    "adapter = PrinterAdapter(old_printer)\n",
    "print(adapter.modern_print(\"Hello!\"))  # Output: Old Printer: Hello!"
   ]
  },
  {
   "cell_type": "markdown",
   "id": "6a67642a-2522-47dd-a1dc-2e483801e888",
   "metadata": {},
   "source": [
    "# Decorator @log with Metaclass in Python"
   ]
  },
  {
   "cell_type": "raw",
   "id": "401772cd-e4a4-4c27-a155-ed3d7cc99771",
   "metadata": {},
   "source": [
    "Step 1: Create a log Decorator\n",
    "The @log decorator will wrap a function and print its name and arguments whenever it is called."
   ]
  },
  {
   "cell_type": "code",
   "execution_count": 19,
   "id": "16fb9b4a-950c-4dfd-9c4f-30ba34217d98",
   "metadata": {},
   "outputs": [],
   "source": [
    "def log(func):\n",
    "    \"\"\"Decorator to log function calls.\"\"\"\n",
    "    def wrapper(*args, **kwargs):\n",
    "        print(f\"Calling {func.__name__} with args={args} kwargs={kwargs}\")\n",
    "        result = func(*args, **kwargs)\n",
    "        print(f\"{func.__name__} returned {result}\")\n",
    "        return result\n",
    "    return wrapper"
   ]
  },
  {
   "cell_type": "raw",
   "id": "43ce70c6-132a-4772-b2e5-5ff30cebfbcd",
   "metadata": {},
   "source": [
    "Step 2: Define a Metaclass to Apply @log Automatically\n",
    "A metaclass controls the creation of classes. Here, we modify class methods dynamically by applying the @log decorator to all functions."
   ]
  },
  {
   "cell_type": "code",
   "execution_count": 20,
   "id": "df6b8bde-5a3b-400c-b9fa-59c8575a532a",
   "metadata": {},
   "outputs": [],
   "source": [
    "class LogMeta(type):\n",
    "    \"\"\"Metaclass that applies @log to all methods of a class.\"\"\"\n",
    "    def __new__(cls, name, bases, class_dict):\n",
    "        for attr_name, attr_value in class_dict.items():\n",
    "            if callable(attr_value):  # Check if it is a method\n",
    "                class_dict[attr_name] = log(attr_value)  # Apply @log decorator\n",
    "        return super().__new__(cls, name, bases, class_dict)"
   ]
  },
  {
   "cell_type": "raw",
   "id": "3e80a7d2-b45d-46e0-9baa-acfdd08d6123",
   "metadata": {},
   "source": [
    "Step 3: Create a Class Using the Metaclass\n",
    "Now, we create a class that automatically logs method calls without manually applying @log."
   ]
  },
  {
   "cell_type": "code",
   "execution_count": 21,
   "id": "64ef3025-b87f-4273-94b1-697ec7dfac7c",
   "metadata": {},
   "outputs": [],
   "source": [
    "class MyClass(metaclass=LogMeta):\n",
    "    def add(self, x, y):\n",
    "        return x + y\n",
    "\n",
    "    def multiply(self, x, y):\n",
    "        return x * y"
   ]
  },
  {
   "cell_type": "raw",
   "id": "fe87931b-96aa-477b-b61b-59ff64b963d7",
   "metadata": {},
   "source": [
    "Step 4: Use the Class"
   ]
  },
  {
   "cell_type": "code",
   "execution_count": 22,
   "id": "18ef9007-a66e-4ccd-a132-6684e3136915",
   "metadata": {},
   "outputs": [
    {
     "name": "stdout",
     "output_type": "stream",
     "text": [
      "Calling add with args=(<__main__.MyClass object at 0x0000021CEF31FDD0>, 5, 3) kwargs={}\n",
      "add returned 8\n",
      "Calling multiply with args=(<__main__.MyClass object at 0x0000021CEF31FDD0>, 4, 2) kwargs={}\n",
      "multiply returned 8\n"
     ]
    },
    {
     "data": {
      "text/plain": [
       "8"
      ]
     },
     "execution_count": 22,
     "metadata": {},
     "output_type": "execute_result"
    }
   ],
   "source": [
    "obj = MyClass()\n",
    "obj.add(5, 3)       # Calls add() with logging\n",
    "obj.multiply(4, 2)  # Calls multiply() with logging"
   ]
  },
  {
   "cell_type": "raw",
   "id": "5fbd60d4-4a12-475b-9938-63edcfe8b43b",
   "metadata": {},
   "source": [
    "Key Takeaways\n",
    "✅ Decorator (@log) logs function calls dynamically.\n",
    "✅ Metaclass (LogMeta) applies the decorator automatically to all methods.\n",
    "✅ No need to modify individual methods manually – Logging is applied to every function inside the class"
   ]
  },
  {
   "cell_type": "markdown",
   "id": "803aef13-235a-478e-9497-0ea19bb55792",
   "metadata": {},
   "source": [
    "# 3. Behavioral Design Patterns\n",
    "These patterns define how objects communicate."
   ]
  },
  {
   "cell_type": "code",
   "execution_count": 10,
   "id": "296ac789-e1eb-4bc9-be35-31f61b9c344e",
   "metadata": {},
   "outputs": [
    {
     "name": "stdout",
     "output_type": "stream",
     "text": [
      "Observer 1 received message: New Update Available!\n",
      "Observer 2 received message: New Update Available!\n"
     ]
    }
   ],
   "source": [
    "class Observer:\n",
    "    def update(self, message):\n",
    "        pass  # This method is meant to be overridden\n",
    "\n",
    "class Subject:\n",
    "    def __init__(self):\n",
    "        self.observers = []\n",
    "\n",
    "    def add_observer(self, observer):\n",
    "        self.observers.append(observer)\n",
    "\n",
    "    def notify_observers(self, message):\n",
    "        for observer in self.observers:\n",
    "            observer.update(message)\n",
    "\n",
    "class ConcreteObserver(Observer):\n",
    "    def __init__(self, name):\n",
    "        self.name = name\n",
    "\n",
    "    def update(self, message):\n",
    "        print(f\"{self.name} received message: {message}\")\n",
    "\n",
    "# Usage\n",
    "subject = Subject()\n",
    "observer1 = ConcreteObserver(\"Observer 1\")\n",
    "observer2 = ConcreteObserver(\"Observer 2\")\n",
    "\n",
    "subject.add_observer(observer1)\n",
    "subject.add_observer(observer2)\n",
    "\n",
    "subject.notify_observers(\"New Update Available!\")\n"
   ]
  },
  {
   "cell_type": "markdown",
   "id": "6503bf07-d316-4065-bf7a-4cb2cdfca17e",
   "metadata": {},
   "source": [
    "# Advance python"
   ]
  },
  {
   "cell_type": "code",
   "execution_count": 16,
   "id": "e3c7e9ce-a221-46eb-aff2-e1c455b06086",
   "metadata": {},
   "outputs": [
    {
     "name": "stdout",
     "output_type": "stream",
     "text": [
      "<__main__.A object at 0x0000021CEF31FEC0>\n"
     ]
    }
   ],
   "source": [
    "class Meta(type):\n",
    "    def __new__(cls, *args, **kwargs):\n",
    "        return super(Meta,cls).__new__(cls, *args, **kwargs)\n",
    "\n",
    "    def __init__(self, *args, **kwargs):\n",
    "        super(Meta, self).__init__(*args, **kwargs)\n",
    "\n",
    "class A(metaclass=Meta):\n",
    "    def __init__(self):\n",
    "        pass\n",
    "\n",
    "a= A()\n",
    "print(a)"
   ]
  },
  {
   "cell_type": "markdown",
   "id": "03a0c813-fe54-44a8-a14b-627d67464f21",
   "metadata": {},
   "source": [
    "# When to Use Facade Pattern"
   ]
  },
  {
   "cell_type": "raw",
   "id": "da32a3d7-12a6-4ad8-921c-b35018dedf19",
   "metadata": {},
   "source": [
    "✅ When you want to simplify interactions – Instead of dealing with multiple subsystems, you expose a simple API.\n",
    "✅ When you want to reduce dependencies – Clients only need to communicate with the Facade, not the internal classes.\n",
    "✅ When working with complex libraries or frameworks – Facades provide a clear interface, making interactions easier."
   ]
  },
  {
   "cell_type": "code",
   "execution_count": 18,
   "id": "b7a738fe-ab37-4916-8a51-19609d6c6ef4",
   "metadata": {},
   "outputs": [
    {
     "name": "stdout",
     "output_type": "stream",
     "text": [
      "Lights are dimmed for movie mode\n",
      "TV is turned ON\n",
      "Sound System is turned ON\n",
      "DVD Player is turned ON\n",
      "DVD Player is playing a movie\n",
      "\n",
      "--- Movie Ended ---\n",
      "\n",
      "DVD Player is turned OFF\n",
      "Sound System is turned OFF\n",
      "TV is turned OFF\n",
      "Lights are bright\n"
     ]
    }
   ],
   "source": [
    "class TV:\n",
    "    def on(self):\n",
    "        return \"TV is turned ON\"\n",
    "    \n",
    "    def off(self):\n",
    "        return \"TV is turned OFF\"\n",
    "\n",
    "class SoundSystem:\n",
    "    def on(self):\n",
    "        return \"Sound System is turned ON\"\n",
    "    \n",
    "    def off(self):\n",
    "        return \"Sound System is turned OFF\"\n",
    "\n",
    "class DVDPlayer:\n",
    "    def on(self):\n",
    "        return \"DVD Player is turned ON\"\n",
    "    \n",
    "    def play(self):\n",
    "        return \"DVD Player is playing a movie\"\n",
    "\n",
    "    def off(self):\n",
    "        return \"DVD Player is turned OFF\"\n",
    "\n",
    "class Lights:\n",
    "    def dim(self):\n",
    "        return \"Lights are dimmed for movie mode\"\n",
    "    \n",
    "    def bright(self):\n",
    "        return \"Lights are bright\"\n",
    "#######################################\n",
    "class HomeTheaterFacade:\n",
    "    def __init__(self):\n",
    "        self.tv = TV()\n",
    "        self.sound = SoundSystem()\n",
    "        self.dvd = DVDPlayer()\n",
    "        self.lights = Lights()\n",
    "\n",
    "    def watch_movie(self):\n",
    "        return [\n",
    "            self.lights.dim(),\n",
    "            self.tv.on(),\n",
    "            self.sound.on(),\n",
    "            self.dvd.on(),\n",
    "            self.dvd.play()\n",
    "        ]\n",
    "\n",
    "    def end_movie(self):\n",
    "        return [\n",
    "            self.dvd.off(),\n",
    "            self.sound.off(),\n",
    "            self.tv.off(),\n",
    "            self.lights.bright()\n",
    "        ]\n",
    "#############\n",
    "# Creating an instance of the Facade\n",
    "home_theater = HomeTheaterFacade()\n",
    "\n",
    "# Watching a movie (simplified interface)\n",
    "for action in home_theater.watch_movie():\n",
    "    print(action)\n",
    "\n",
    "print(\"\\n--- Movie Ended ---\\n\")\n",
    "\n",
    "# Ending the movie (simplified interface)\n",
    "for action in home_theater.end_movie():\n",
    "    print(action)\n"
   ]
  },
  {
   "cell_type": "code",
   "execution_count": null,
   "id": "c7be2e11-ce37-4561-ae60-aa51d0b80417",
   "metadata": {},
   "outputs": [],
   "source": []
  }
 ],
 "metadata": {
  "kernelspec": {
   "display_name": "Python 3 (ipykernel)",
   "language": "python",
   "name": "python3"
  },
  "language_info": {
   "codemirror_mode": {
    "name": "ipython",
    "version": 3
   },
   "file_extension": ".py",
   "mimetype": "text/x-python",
   "name": "python",
   "nbconvert_exporter": "python",
   "pygments_lexer": "ipython3",
   "version": "3.12.8"
  }
 },
 "nbformat": 4,
 "nbformat_minor": 5
}
