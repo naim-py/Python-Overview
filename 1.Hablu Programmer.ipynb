{
 "cells": [
  {
   "cell_type": "markdown",
   "id": "79bc122a-1f3f-47c8-b4ef-dab1a006d544",
   "metadata": {},
   "source": [
    "# Module & pip"
   ]
  },
  {
   "cell_type": "raw",
   "id": "20129d2f-f07c-4829-a323-1f4f8e607994",
   "metadata": {},
   "source": [
    "A module in Python is a file containing Python code, such as functions, classes, or variables, that can be reused in other Python programs. It allows you to organize your code into manageable and reusable components."
   ]
  },
  {
   "cell_type": "raw",
   "id": "e6c3bda9-424a-4883-b4ba-77f0e0ffe12a",
   "metadata": {},
   "source": [
    "pip stands for \"Pip Installs Packages\" and is the default package manager for Python. It is used to install, manage, and uninstall Python packages from the Python Package Index (PyPI) or other sources."
   ]
  },
  {
   "cell_type": "markdown",
   "id": "159460b3-53dc-4706-95ba-df7e7f06c241",
   "metadata": {},
   "source": [
    "# 11.String Formating"
   ]
  },
  {
   "cell_type": "raw",
   "id": "614d14cf-fc00-49f5-922b-f976ce35c5ca",
   "metadata": {},
   "source": [
    "String formatting in Python allows you to create dynamic strings by inserting variables or values into a predefined string template."
   ]
  },
  {
   "cell_type": "code",
   "execution_count": 3,
   "id": "13802235-78e6-49b9-aca9-b8a64230e6fa",
   "metadata": {},
   "outputs": [
    {
     "name": "stdout",
     "output_type": "stream",
     "text": [
      "My name is Alice, and I am 25 years old.\n",
      "My name is Alice, and I am 25 years old.\n",
      "Charlie is 25 years old.\n"
     ]
    }
   ],
   "source": [
    "name = \"Alice\"\n",
    "age = 25\n",
    "print(f\"My name is {name}, and I am {age} years old.\")  \n",
    "# Output: My name is Alice, and I am 25 years old.\n",
    "\n",
    "print(\"My name is {}, and I am {} years old.\".format(name, age))\n",
    "\n",
    "print(\"{1} is {0} years old.\".format(25, \"Charlie\"))\n",
    "# Output: Charlie is 25 years old."
   ]
  },
  {
   "cell_type": "markdown",
   "id": "da20d844-c252-48b6-a980-ae7d0c62e6f2",
   "metadata": {},
   "source": [
    "# 10 Binary type data"
   ]
  },
  {
   "cell_type": "raw",
   "id": "140f7be5-4274-487c-9c63-9272c9710828",
   "metadata": {},
   "source": [
    "Binary Types:\tbytes, bytearray, memoryview\n",
    "binary data refers to a sequence of bytes. It used immutable sequence of bytes.\n",
    "Used for handling binary data to handle files like images, audio, video, or other non-text files. "
   ]
  },
  {
   "cell_type": "code",
   "execution_count": 5,
   "id": "bcafc989-a7e0-42e5-8aa6-4047053400a5",
   "metadata": {},
   "outputs": [
    {
     "name": "stdout",
     "output_type": "stream",
     "text": [
      "b'Hello, Binary!'\n",
      "<class 'bytes'>\n",
      "65\n"
     ]
    }
   ],
   "source": [
    "b_data = b\"Hello, Binary!\"\n",
    "print(b_data)  # Output: b'Hello, Binary!'\n",
    "print(type(b_data))  # Output: <class 'bytes'>\n",
    "\n",
    "b_data = b\"ABC\"\n",
    "print(b_data[0])  # Output: 65 (ASCII of 'A')"
   ]
  },
  {
   "cell_type": "markdown",
   "id": "1473646b-6e7a-4820-95e6-5ad27b5ebd4f",
   "metadata": {},
   "source": [
    "# Sequence data"
   ]
  },
  {
   "cell_type": "raw",
   "id": "3834fd4c-4dde-41c3-a077-551320857a99",
   "metadata": {},
   "source": [
    "List\n",
    "1.Mutable (modifiable).\n",
    "2.Can store mixed data types.\n",
    "3.Commonly used for dynamic collections."
   ]
  },
  {
   "cell_type": "code",
   "execution_count": 7,
   "id": "cf05c4ee-52bb-42b6-913e-711235e85265",
   "metadata": {},
   "outputs": [
    {
     "name": "stdout",
     "output_type": "stream",
     "text": [
      "3\n",
      "[9, 2, 3, 'Hello', 4.5, 6]\n"
     ]
    }
   ],
   "source": [
    "my_list = [1, 2, 3, \"Hello\", 4.5]\n",
    "print(my_list[2])  # Output: 3\n",
    "my_list[0]=9\n",
    "my_list.append(6)  # Add an element\n",
    "print(my_list)  # Output: [1, 2, 3, 'Hello', 4.5, 6]"
   ]
  },
  {
   "cell_type": "raw",
   "id": "c576ed20-a849-403b-8ac9-c2dc433ce491",
   "metadata": {},
   "source": [
    "Tuples\n",
    "1.Immutable (cannot be modified after creation).\n",
    "2.Useful for fixed collections of items."
   ]
  },
  {
   "cell_type": "code",
   "execution_count": 12,
   "id": "e16ee014-489a-4366-8ea4-6019cd26d391",
   "metadata": {},
   "outputs": [
    {
     "name": "stdout",
     "output_type": "stream",
     "text": [
      "2.3\n"
     ]
    }
   ],
   "source": [
    "my_tuple = (1, 2.3, 3, \"Python\")\n",
    "#my_tuple[0]=6\n",
    "print(my_tuple[1])  # Output: 2\n",
    "# my_tuple[1] = 10  # Error: 'tuple' object does not support item assignment"
   ]
  },
  {
   "cell_type": "code",
   "execution_count": 17,
   "id": "dc549221-cdbd-4ca5-b6dd-96f5afaf06fa",
   "metadata": {},
   "outputs": [
    {
     "name": "stdout",
     "output_type": "stream",
     "text": [
      "[1, 3, 5, 7, 9]\n"
     ]
    }
   ],
   "source": [
    "# Range\n",
    "# Represents a sequence of numbers, commonly used in loops.\n",
    "# Immutable.\n",
    "\n",
    "r = range(1, 10, 2)  # Start=1, Stop=10, Step=2\n",
    "print(list(r))"
   ]
  },
  {
   "cell_type": "markdown",
   "id": "7a8c6f21-6124-4a50-bc1e-ee6c4ffc8edc",
   "metadata": {},
   "source": [
    "# Operator "
   ]
  },
  {
   "cell_type": "raw",
   "id": "3720bb63-7480-4ad7-b4d3-6f1a24111d10",
   "metadata": {},
   "source": [
    "1. Arithmetic : +,-,*,/,\t%, **,\n",
    "2. Comparison (Relational): =,+=,-=,*=,/=,%=,//=,**=,&=,|=,^=,>>=,<<=,:="
   ]
  },
  {
   "cell_type": "code",
   "execution_count": 31,
   "id": "ee418415-fcc4-43d8-afff-7fa0f7423c4c",
   "metadata": {},
   "outputs": [
    {
     "name": "stdout",
     "output_type": "stream",
     "text": [
      "2\n",
      "40\n"
     ]
    }
   ],
   "source": [
    "#print(x := 3) #out=3\n",
    "\n",
    "x = 20\n",
    "x >>= 3  # Right shift by 2 positions\n",
    "print(x)  # Output: 4 (16 divided by 4 = 4)\n",
    "\n",
    "x = 5\n",
    "x <<= 3  # Left shift by 3 positions\n",
    "print(x)  # Output: 40 (5 * 2^3 = 40)\n"
   ]
  },
  {
   "cell_type": "markdown",
   "id": "73fc3d3a-e9c5-40a7-b880-97fe2dbfd8ac",
   "metadata": {},
   "source": [
    "# Swapping"
   ]
  },
  {
   "cell_type": "code",
   "execution_count": 32,
   "id": "1ff00cde-ef94-4015-a625-8d91d7750de1",
   "metadata": {},
   "outputs": [
    {
     "name": "stdout",
     "output_type": "stream",
     "text": [
      "90\n"
     ]
    }
   ],
   "source": [
    "a=50\n",
    "b=90\n",
    "a,b=b,a\n",
    "print(a)"
   ]
  },
  {
   "cell_type": "markdown",
   "id": "1cf0f50f-a4c3-43f2-b4d9-a9a8c7d70781",
   "metadata": {},
   "source": [
    "# Type Casting"
   ]
  },
  {
   "cell_type": "raw",
   "id": "860f5f29-a43a-4f09-85e0-4ad0881325c7",
   "metadata": {},
   "source": [
    " process of converting one data type into another. such as =from int to str"
   ]
  },
  {
   "cell_type": "code",
   "execution_count": 39,
   "id": "feacf3b1-08ce-4ff5-8e6f-927fe10fe72e",
   "metadata": {},
   "outputs": [
    {
     "name": "stdout",
     "output_type": "stream",
     "text": [
      "123\n",
      "123666\n",
      "(1, 2, 3)\n"
     ]
    }
   ],
   "source": [
    "i=\"123\"\n",
    "print(int(i))\n",
    "a=123666\n",
    "print(str(a))\n",
    "\n",
    "a = [1, 2, 3] #from list to tuple\n",
    "b = tuple(a)\n",
    "print(b)  # Output: (1, 2, 3)"
   ]
  },
  {
   "cell_type": "markdown",
   "id": "65fc0c36-b326-4037-a8b0-49657304a6cb",
   "metadata": {},
   "source": [
    "# List"
   ]
  },
  {
   "cell_type": "code",
   "execution_count": 55,
   "id": "02a0c620-27ec-46d1-babe-41d952a6e62d",
   "metadata": {},
   "outputs": [
    {
     "name": "stdout",
     "output_type": "stream",
     "text": [
      "['Apple', 'mango', 'orange', 'cheri', 'Lichi']\n",
      "['Apple', 'mango', 'cheri', 'Lichi']\n",
      "[10, 50]\n",
      "[10, 20, 30, 40]\n",
      "[1, 3, 5]\n",
      "my_list []\n",
      "10\n",
      "20\n",
      "30\n",
      "0\n",
      "1\n",
      "2\n"
     ]
    }
   ],
   "source": [
    "li=['mango','orange','cheri']\n",
    "li.append(\"Lichi\")\n",
    "li.insert(0,\"Apple\")\n",
    "print(li)\n",
    "del li[2]\n",
    "print(li)\n",
    "\n",
    "#slicing element\n",
    "my_list = [10, 20, 30, 40, 50]\n",
    "del my_list[1:4]  # Deletes elements at indices 1, 2, 3\n",
    "print(my_list)\n",
    "\n",
    "my_list = [10, 20, 30, 40, 50]\n",
    "del my_list[-1]  # Deletes the last element (40)\n",
    "print(my_list)\n",
    "\n",
    "my_list = [0, 1, 2, 3, 4, 5]\n",
    "del my_list[::2]  # Deletes elements at even indices\n",
    "print(my_list)  # Output: [1, 3, 5]\n",
    "\n",
    "my_list = [10, 20, 30]\n",
    "del my_list[:]  # Empties the list , deleted all\n",
    "print(\"my_list\",my_list)  # Output: []\n",
    "\n",
    "my_list = [10, 20, 30]\n",
    "for i in my_list:\n",
    "    print(i)\n",
    "for i in range(len(my_list)):\n",
    "    print(i)\n"
   ]
  },
  {
   "cell_type": "markdown",
   "id": "b1672bc6-cccf-4139-9ee3-d9ff118637f2",
   "metadata": {},
   "source": [
    "# List Comprehension"
   ]
  },
  {
   "cell_type": "code",
   "execution_count": 61,
   "id": "46643de1-daf7-4ccb-a92c-fc1035ef6466",
   "metadata": {},
   "outputs": [
    {
     "name": "stdout",
     "output_type": "stream",
     "text": [
      "['apple', 'banana', 'mango']\n",
      "[1, 4, 9, 16, 25]\n",
      "[(1, 'a'), (1, 'b'), (2, 'a'), (2, 'b'), (3, 'a'), (3, 'b')]\n",
      "[0, 2, 0, 4]\n"
     ]
    }
   ],
   "source": [
    "# means create a new list from existing list\n",
    "fruits = [\"apple\", \"banana\", \"cherry\", \"kiwi\", \"mango\"]\n",
    "newlist = []\n",
    "\n",
    "for x in fruits:\n",
    "  if \"a\" in x:\n",
    "    newlist.append(x)\n",
    "print(newlist)\n",
    "\n",
    "z=[x**2 for x in range(1,6)]\n",
    "print(z)\n",
    "\n",
    "combinations = [(x, y) for x in [1, 2, 3] for y in ['a', 'b']] #Nested Loops in List Comprehension\n",
    "print(combinations)  # Output: [(1, 'a'), (1, 'b'), (2, 'a'), (2, 'b'), (3, 'a'), (3, 'b')]\n",
    "\n",
    "nums = [-1, 2, -3, 4]\n",
    "non_negative = [x if x >= 0 else 0 for x in nums]  #conditional\n",
    "print(non_negative)  # Output: [0, 2, 0, 4]"
   ]
  },
  {
   "cell_type": "code",
   "execution_count": 6,
   "id": "465a4739-af41-4037-9d24-6a7dd52bc3b9",
   "metadata": {},
   "outputs": [
    {
     "name": "stdout",
     "output_type": "stream",
     "text": [
      "{1: 1, 2: 4, 3: 9, 4: 16, 5: 25, 6: 36}\n"
     ]
    }
   ],
   "source": [
    "#Dictionary used in List Comprensive,dictionary means second bracket\n",
    "dictionary = {x: x**2 for x in range(1,7)}\n",
    "print(dictionary)"
   ]
  },
  {
   "cell_type": "markdown",
   "id": "b38d2e01-abae-4224-8810-386365b1d91e",
   "metadata": {},
   "source": [
    "# Sort List"
   ]
  },
  {
   "cell_type": "code",
   "execution_count": 10,
   "id": "03f80e8b-1aef-422d-a569-c8a51c25583b",
   "metadata": {},
   "outputs": [
    {
     "name": "stdout",
     "output_type": "stream",
     "text": [
      "[1, 2, 5, 9]\n",
      "[9, 5, 2, 1]\n"
     ]
    }
   ],
   "source": [
    "my_list = [5, 2, 9, 1]\n",
    "my_list.sort()  #Ascending\n",
    "#sorted_list = sorted(my_list)\n",
    "print(my_list)\n",
    "\n",
    "my_list.sort(reverse=True)  #Descending\n",
    "#sorted_list = sorted(my_list, reverse=True)\n",
    "print(my_list)"
   ]
  },
  {
   "cell_type": "code",
   "execution_count": 12,
   "id": "53dc45c7-7a14-444c-a05d-3ef3d05ce5fa",
   "metadata": {},
   "outputs": [
    {
     "name": "stdout",
     "output_type": "stream",
     "text": [
      "['kiwi', 'apple', 'banana', 'cherry']\n",
      "['apple', 'banana', 'cherry', 'kiwi']\n",
      "[-1, 2, -3, 5]\n"
     ]
    }
   ],
   "source": [
    "# Sorting with a Key\n",
    "words = [\"apple\", \"banana\", \"cherry\", \"kiwi\"]\n",
    "words.sort(key=len) #sort according to word len \n",
    "print(words)  # Output: ['kiwi', 'apple', 'banana', 'cherry']\n",
    "\n",
    "words.sort(key=str.lower)\n",
    "print(words)\n",
    "\n",
    "nums = [-3, 5, -1, 2]\n",
    "sorted_nums = sorted(nums, key=abs)  #for abosolute value\n",
    "print(sorted_nums)  # Output: [-1, 2, -3, 5]"
   ]
  },
  {
   "cell_type": "code",
   "execution_count": 13,
   "id": "c3ab5302-c168-4d1e-8895-32787c48c07c",
   "metadata": {},
   "outputs": [
    {
     "name": "stdout",
     "output_type": "stream",
     "text": [
      "[('Bob', 22), ('Charlie', 23), ('Alice', 25)]\n"
     ]
    }
   ],
   "source": [
    "students = [(\"Alice\", 25), (\"Bob\", 22), (\"Charlie\", 23)]\n",
    "students.sort(key=lambda x: x[1])  # Sort by age\n",
    "print(students)  # Output: [('Bob', 22), ('Charlie', 23), ('Alice', 25)]"
   ]
  },
  {
   "cell_type": "code",
   "execution_count": 14,
   "id": "5a50133f-3983-4bd0-80e3-2b1425f5fb63",
   "metadata": {},
   "outputs": [
    {
     "name": "stdout",
     "output_type": "stream",
     "text": [
      "[{'name': 'Bob', 'age': 22}, {'name': 'Charlie', 'age': 23}, {'name': 'Alice', 'age': 25}]\n"
     ]
    }
   ],
   "source": [
    "students = [{\"name\": \"Alice\", \"age\": 25}, {\"name\": \"Bob\", \"age\": 22}, {\"name\": \"Charlie\", \"age\": 23}]\n",
    "students.sort(key=lambda x: x['age'])  # Sort by 'age'\n",
    "print(students)"
   ]
  },
  {
   "cell_type": "markdown",
   "id": "e5dd03ee-374a-4257-b8bb-cdc79d8bc1a9",
   "metadata": {},
   "source": [
    "# Merge"
   ]
  },
  {
   "cell_type": "code",
   "execution_count": 21,
   "id": "e640e16c-6551-474f-9db0-7ad269859863",
   "metadata": {},
   "outputs": [
    {
     "name": "stdout",
     "output_type": "stream",
     "text": [
      "[1, 2, 3, 'A', 'B', 'C']\n",
      "['A', 'B', 'C']\n"
     ]
    }
   ],
   "source": [
    "l1=[1,2,3]\n",
    "l2=['A','B','C']\n",
    "l1.extend(l2)\n",
    "print(l1)\n",
    "\n",
    "l3=l2.copy()\n",
    "print(l3)"
   ]
  },
  {
   "cell_type": "markdown",
   "id": "2d27a8bd-c31c-4c1c-9639-9ff33638d645",
   "metadata": {},
   "source": [
    "# Tuple"
   ]
  },
  {
   "cell_type": "code",
   "execution_count": 30,
   "id": "8a472630-155a-4cc2-9615-b64295fdd5ce",
   "metadata": {},
   "outputs": [
    {
     "name": "stdout",
     "output_type": "stream",
     "text": [
      "2\n",
      "[1, 2, 3]\n",
      "1 2 3\n"
     ]
    }
   ],
   "source": [
    "t=(1,2,3)\n",
    "print(t[1])\n",
    "\n",
    "#unpack\n",
    "t = (1, 2, 3)\n",
    "(*f,)=t\n",
    "print(f)\n",
    "a, b, c = t    \n",
    "print(a, b, c)  # Output: 1 2 3"
   ]
  },
  {
   "cell_type": "code",
   "execution_count": 29,
   "id": "659d1b30-58fb-4235-9fe6-3ba3ceaeff99",
   "metadata": {},
   "outputs": [
    {
     "name": "stdout",
     "output_type": "stream",
     "text": [
      "(1, 2, 4, 6)\n"
     ]
    }
   ],
   "source": [
    "# Update Tupple\n",
    "tu=(1,2,3,4)\n",
    "l=list(tu)\n",
    "l.append(6)\n",
    "l.pop(2)  #remove index value\n",
    "t=tuple(l)\n",
    "print(t)"
   ]
  },
  {
   "cell_type": "code",
   "execution_count": 37,
   "id": "0c0151b5-346e-42bd-84de-f8a2bd4587c0",
   "metadata": {},
   "outputs": [
    {
     "name": "stdout",
     "output_type": "stream",
     "text": [
      "3\n",
      "4\n"
     ]
    }
   ],
   "source": [
    "#method such as count & index\n",
    "t=(1,2,3,4,5,2,3,4,1,2)\n",
    "c=t.count(2)\n",
    "print(c)\n",
    "\n",
    "i=t.index(5)\n",
    "print(i)"
   ]
  },
  {
   "cell_type": "markdown",
   "id": "274aa871-5002-435c-a0d4-2612019f9791",
   "metadata": {},
   "source": [
    "# set\n",
    "1.Unorder\n",
    "2.Unchangeable\n",
    "3.Automatically remove duplicate value"
   ]
  },
  {
   "cell_type": "code",
   "execution_count": 38,
   "id": "78e8efd0-993a-4e2d-84f0-91818c2808b0",
   "metadata": {},
   "outputs": [
    {
     "name": "stdout",
     "output_type": "stream",
     "text": [
      "{1, 2, 3}\n"
     ]
    }
   ],
   "source": [
    "my_set = {1, 2, 3,2}   #use kerly bracket\n",
    "print(my_set)"
   ]
  },
  {
   "cell_type": "code",
   "execution_count": 39,
   "id": "00485bc1-f865-4523-8087-070e3990b4e9",
   "metadata": {},
   "outputs": [
    {
     "name": "stdout",
     "output_type": "stream",
     "text": [
      "{1, 2, 3}\n"
     ]
    }
   ],
   "source": [
    "my_set = set([1, 2, 3, 2])  # use constractor\n",
    "print(my_set)"
   ]
  },
  {
   "cell_type": "code",
   "execution_count": 40,
   "id": "9abe12e0-a948-4c74-bb51-c1fe5b6020b5",
   "metadata": {},
   "outputs": [
    {
     "name": "stdout",
     "output_type": "stream",
     "text": [
      "{1, 2, 3}\n"
     ]
    }
   ],
   "source": [
    "my_set = {1, 2} #adding\n",
    "my_set.add(3)\n",
    "print(my_set)"
   ]
  },
  {
   "cell_type": "code",
   "execution_count": 41,
   "id": "7733723f-840f-4dda-8fb7-00eec343f94c",
   "metadata": {},
   "outputs": [
    {
     "name": "stdout",
     "output_type": "stream",
     "text": [
      "set()\n"
     ]
    }
   ],
   "source": [
    "my_set = {1, 2, 3}\n",
    "my_set.clear() #remove all\n",
    "print(my_set)  "
   ]
  },
  {
   "cell_type": "code",
   "execution_count": 43,
   "id": "964a257d-bb48-458c-a490-5ed272f8ec73",
   "metadata": {},
   "outputs": [
    {
     "name": "stdout",
     "output_type": "stream",
     "text": [
      "{1, 2, 3}\n"
     ]
    }
   ],
   "source": [
    "set1 = {1, 2} #set union\n",
    "set2 = {2, 3}\n",
    "result = set1 | set2  # or set1.union(set2)\n",
    "print(result) "
   ]
  },
  {
   "cell_type": "code",
   "execution_count": 45,
   "id": "2f36cec9-9547-42ca-805c-3f93e1921e10",
   "metadata": {},
   "outputs": [
    {
     "name": "stdout",
     "output_type": "stream",
     "text": [
      "{2, 3}\n"
     ]
    }
   ],
   "source": [
    "set1 = {1, 2, 3}  #set intersection(common element)\n",
    "set2 = {2, 3, 4}\n",
    "result = set1 & set2  # or set1.intersection(set2)\n",
    "print(result)  "
   ]
  },
  {
   "cell_type": "code",
   "execution_count": 47,
   "id": "f9e01508-2f24-418f-bd32-f79de619a190",
   "metadata": {},
   "outputs": [
    {
     "name": "stdout",
     "output_type": "stream",
     "text": [
      "{1}\n"
     ]
    }
   ],
   "source": [
    "set1 = {1, 2, 3}\n",
    "set2 = {2, 3, 4}\n",
    "result = set1 - set2  # or set1.difference(set2)\n",
    "print(result)"
   ]
  },
  {
   "cell_type": "raw",
   "id": "1613fd77-726b-40b1-9a21-a1c1e8786f2e",
   "metadata": {},
   "source": [
    "update(iterable)\tAdds multiple elements from an iterable.\n",
    "remove(item)\tRemoves the specified element; raises an error if not found.\n",
    "discard(item)\tRemoves the specified element; does nothing if not found.\n",
    "clear()\tRemoves all elements from the set.\n",
    "union(*sets)\tReturns the union of all sets.\n",
    "intersection(*sets)\tReturns the intersection of all sets.\n",
    "difference(*sets)\tReturns the difference between sets.\n",
    "symmetric_difference(set)\tReturns the symmetric difference of sets.\n",
    "issubset(set)\tChecks if the set is a subset of another set.\n",
    "issuperset(set)\tChecks if the set is a superset of another set.\n",
    "isdisjoint(set)\tChecks if the set has no elements in common."
   ]
  },
  {
   "cell_type": "code",
   "execution_count": 51,
   "id": "1756ec83-4511-43b2-83b6-3d0dc08444cc",
   "metadata": {},
   "outputs": [
    {
     "name": "stdout",
     "output_type": "stream",
     "text": [
      "{1, 2, 3, 4}\n",
      "{1, 3, 4}\n"
     ]
    }
   ],
   "source": [
    "#Add set\n",
    "my_set = {1, 2, 3}\n",
    "my_set.add(4)  # Adds 4 to the set\n",
    "print(my_set)\n",
    "my_set.remove(2)\n",
    "print(my_set)"
   ]
  },
  {
   "cell_type": "code",
   "execution_count": 50,
   "id": "6796119e-0473-46c1-8972-e18f86503a41",
   "metadata": {},
   "outputs": [
    {
     "name": "stdout",
     "output_type": "stream",
     "text": [
      "{1, 2, 3, 4, 5, 6}\n",
      "{1, 2, 3, 4, 5, 6, 7, 10}\n"
     ]
    }
   ],
   "source": [
    "my_set = {1, 2, 3}\n",
    "B={6,7,10}\n",
    "my_set.update([4, 5, 6])  # Adds multiple elements\n",
    "print(my_set)\n",
    "my_set.update(B)\n",
    "print(my_set)"
   ]
  },
  {
   "cell_type": "markdown",
   "id": "212e706a-a6f7-4031-a3ef-ca14cd8ab900",
   "metadata": {},
   "source": [
    "# Dictionary"
   ]
  },
  {
   "cell_type": "code",
   "execution_count": 52,
   "id": "922d436d-18a4-4359-ae43-08d0cceca6c9",
   "metadata": {},
   "outputs": [
    {
     "name": "stdout",
     "output_type": "stream",
     "text": [
      "26\n",
      "{'name': 'Alice', 'age': 26, 'city': 'New York'}\n"
     ]
    }
   ],
   "source": [
    "nested_dict = {\n",
    "    'person1': {'name': 'Alice', 'age': 25},\n",
    "    'person2': {'name': 'Bob', 'age': 30}\n",
    "}\n",
    "\n",
    "# Modify an existing value\n",
    "nested_dict['person1']['age'] = 26\n",
    "print(nested_dict['person1']['age'])  # Output: 26\n",
    "\n",
    "# Add a new key-value pair to the inner dictionary\n",
    "nested_dict['person1']['city'] = 'New York'\n",
    "print(nested_dict['person1'])  # Output: {'name': 'Alice', 'age': 26, 'city': 'New York'}\n"
   ]
  },
  {
   "cell_type": "code",
   "execution_count": 58,
   "id": "63ba3102-844a-4d54-b551-dfe10e012cd9",
   "metadata": {},
   "outputs": [
    {
     "name": "stdout",
     "output_type": "stream",
     "text": [
      "{'name': 'Alice', 'age': 26, 'city': 'New York'}\n",
      "{'name': 'Bob', 'age': 30}\n"
     ]
    }
   ],
   "source": [
    "for i in nested_dict.values():\n",
    "    print(i)"
   ]
  },
  {
   "cell_type": "code",
   "execution_count": 60,
   "id": "17000f43-4605-46b6-93c8-8193cdba496e",
   "metadata": {},
   "outputs": [
    {
     "name": "stdout",
     "output_type": "stream",
     "text": [
      "Alice\n",
      "25\n",
      "None\n"
     ]
    }
   ],
   "source": [
    "#for access ,use get() method\n",
    "my_dict = {'name': 'Alice', 'age': 25, 'city': 'New York'}\n",
    "\n",
    "print(my_dict['name'])  # Output: Alice\n",
    "print(my_dict.get('age'))      # Output: 25\n",
    "print(my_dict.get('country'))  # Output: None (instead of raising KeyError)"
   ]
  },
  {
   "cell_type": "code",
   "execution_count": 61,
   "id": "8a9794d9-07ee-4235-b8de-86a8de2b3b76",
   "metadata": {},
   "outputs": [
    {
     "name": "stdout",
     "output_type": "stream",
     "text": [
      "{'name': 'Alice', 'age': 26, 'city': 'New York'}\n"
     ]
    }
   ],
   "source": [
    "my_dict['age'] = 26  #for change\n",
    "print(my_dict)  # Output: {'name': 'Alice', 'age': 26, 'city': 'New York'}"
   ]
  },
  {
   "cell_type": "code",
   "execution_count": null,
   "id": "1c889e29-2b81-4436-a0cb-ac62be171570",
   "metadata": {},
   "outputs": [],
   "source": [
    "# for remove item\n",
    "del my_dict['city']\n",
    "print(my_dict)  # Output: {'name': 'Alice', 'age': 26, 'country': 'USA'}\n",
    "removed_value = my_dict.pop('age')\n",
    "print(removed_value)  # Output: 26\n",
    "print(my_dict)        # Output: {'name': 'Alice', 'country': 'USA'}\n",
    "my_dict.popitem()\n",
    "print(my_dict)  # Output: {'name': 'Alice'}"
   ]
  },
  {
   "cell_type": "markdown",
   "id": "922ab817-51c5-4ab4-bac8-a180decbdf14",
   "metadata": {},
   "source": [
    "# Recursion\n",
    "Recursion is a function which called itself."
   ]
  },
  {
   "cell_type": "code",
   "execution_count": 70,
   "id": "55e13d44-6dd8-40d6-8ff2-d1939a1b97af",
   "metadata": {},
   "outputs": [
    {
     "name": "stdout",
     "output_type": "stream",
     "text": [
      "120\n"
     ]
    }
   ],
   "source": [
    "def factorial(n):\n",
    "    if n==0:\n",
    "        return 1\n",
    "    else:\n",
    "        return n*factorial(n-1) # recursive function factorial(n-1)\n",
    "print(factorial(5))"
   ]
  },
  {
   "cell_type": "code",
   "execution_count": 77,
   "id": "cd395a1b-f5d6-4940-9b4e-5d5dc2f1f571",
   "metadata": {},
   "outputs": [
    {
     "name": "stdout",
     "output_type": "stream",
     "text": [
      "8\n"
     ]
    }
   ],
   "source": [
    "def fibonacii(n):\n",
    "    if n<=1:\n",
    "        return n\n",
    "    else:\n",
    "        return fibonacii(n-1)+fibonacii(n-2)\n",
    "print(fibonacii(6))"
   ]
  },
  {
   "cell_type": "markdown",
   "id": "189e8e83-1163-4353-8692-725afac3f3a0",
   "metadata": {},
   "source": [
    "# Lambda function "
   ]
  },
  {
   "cell_type": "code",
   "execution_count": 81,
   "id": "4bc17442-4c67-4020-8b44-6e8943cee784",
   "metadata": {},
   "outputs": [
    {
     "name": "stdout",
     "output_type": "stream",
     "text": [
      "9\n"
     ]
    }
   ],
   "source": [
    "# def summe(a,b):\n",
    "#     sum=a+b\n",
    "#     return sum\n",
    "# summe(5,3)\n",
    "\n",
    "#lambda function same work above function shortly\n",
    "\n",
    "z=lambda a,b: a+b\n",
    "print(z(4,5))"
   ]
  },
  {
   "cell_type": "markdown",
   "id": "7eabe0b4-f840-4210-8dfb-c0db82f14b92",
   "metadata": {},
   "source": [
    "# Class & Object\n",
    "A class is a blueprint for creating objects, and an object is an instance of a class"
   ]
  },
  {
   "cell_type": "code",
   "execution_count": 86,
   "id": "fd9eec84-8e21-4241-bf0a-6892da3a6c75",
   "metadata": {},
   "outputs": [
    {
     "name": "stdout",
     "output_type": "stream",
     "text": [
      "Rajshahi\n"
     ]
    }
   ],
   "source": [
    "class Hablu:\n",
    "    name=\"\"\n",
    "    age=\"\"\n",
    "    number=\"\"\n",
    "    city=\"\"\n",
    "a = Hablu()   #here a is called object\n",
    "a.name=\"Naim\"\n",
    "a.city=\"Rajshahi\"\n",
    "#b.city=\"Dhaka\"\n",
    "print(a.city)"
   ]
  },
  {
   "cell_type": "code",
   "execution_count": 92,
   "id": "bb6eb530-04b4-4c47-b1a4-e529ed8332bd",
   "metadata": {},
   "outputs": [
    {
     "name": "stdout",
     "output_type": "stream",
     "text": [
      "My name is Alice, and I am 25 years old.\n",
      "My name is Bob, and I am 30 years old.\n"
     ]
    }
   ],
   "source": [
    "class Person:\n",
    "    def __init__(self, name, age):\n",
    "        self.name = name  # Instance attribute\n",
    "        self.age = age\n",
    "\n",
    "    def introduce(self):\n",
    "        return f\"My name is {self.name}, and I am {self.age} years old.\"\n",
    "\n",
    "# Create objects\n",
    "p1 = Person(\"Alice\", 25)\n",
    "p2 = Person(\"Bob\", 30)\n",
    "\n",
    "# Access instance attributes and methods\n",
    "print(p1.introduce())  # Output: My name is Alice, and I am 25 years old.\n",
    "print(p2.introduce())  # Output: My name is Bob, and I am 30 years old.\n"
   ]
  },
  {
   "cell_type": "markdown",
   "id": "3bdcafda-5b55-4505-a306-1c8be4aea7fc",
   "metadata": {},
   "source": [
    "# Inheritance\n",
    "A class can inherit attributes and methods from another class."
   ]
  },
  {
   "cell_type": "code",
   "execution_count": 2,
   "id": "e5262663-9f99-4909-9eb1-b7b1c3086a1b",
   "metadata": {},
   "outputs": [
    {
     "name": "stdout",
     "output_type": "stream",
     "text": [
      "BMW\n"
     ]
    }
   ],
   "source": [
    "#https://www.youtube.com/watch?v=KcNXn1_owqI&list=PLNMnAEqLBwmpR8JDBOEl0jrzmH1vPnO7v&index=63\n",
    "class Baba:\n",
    "    car= 'BMW'\n",
    "    taka = \"7 cores\"\n",
    "\n",
    "class Kaka(Baba):     #Kaka(Baba): here Baba inherit the kaka\n",
    "    phone = \"sumsung\"\n",
    "\n",
    "k = Kaka()\n",
    "print(k.car) \n"
   ]
  },
  {
   "cell_type": "code",
   "execution_count": 6,
   "id": "3f90bdb9-c323-4c3e-a230-737fae8b45c9",
   "metadata": {},
   "outputs": [
    {
     "name": "stdout",
     "output_type": "stream",
     "text": [
      "Fifine\n"
     ]
    }
   ],
   "source": [
    "# Multiple Inheritance\n",
    "class Baba:\n",
    "    car= 'BMW'\n",
    "    taka = \"7 cores\"\n",
    "\n",
    "class Brokaka:\n",
    "    Mobile='IPhone'\n",
    "    ac=\"walton\"\n",
    "\n",
    "class Mejokaka:\n",
    "    microphone='Fifine'\n",
    "    car = 'Mercitise Brand'\n",
    "\n",
    "class chotokaka(Baba,Brokaka,Mejokaka):     #Kaka(Baba,Brokaka,Mejokaka): here Baba,Brokaka,Mejokaka inherit the kaka\n",
    "    phone = \"sumsung\"\n",
    "\n",
    "c=chotokaka()\n",
    "\n",
    "print(c.microphone)"
   ]
  },
  {
   "cell_type": "code",
   "execution_count": 9,
   "id": "ed80485c-5da8-4c61-bf3e-2799a925a08e",
   "metadata": {},
   "outputs": [
    {
     "name": "stdout",
     "output_type": "stream",
     "text": [
      "7 cores\n",
      "walton\n"
     ]
    }
   ],
   "source": [
    "# Multilevel Inheritance\n",
    "class Baba:\n",
    "    car= 'BMW'\n",
    "    taka = \"7 cores\"\n",
    "\n",
    "class son1(Baba):\n",
    "    Mobile='IPhone'\n",
    "    ac=\"walton\"\n",
    "\n",
    "a=son1()\n",
    "print(a.taka)\n",
    "\n",
    "class son2(son1):\n",
    "    microphone='Fifine'\n",
    "    car = 'Mercitise Brand'\n",
    "\n",
    "class son3(son2):     #parent theke sobgula son ,all data access passe\n",
    "    phone = \"sumsung\"\n",
    "\n",
    "c=son3()\n",
    "print(c.ac)"
   ]
  },
  {
   "cell_type": "markdown",
   "id": "73a0cc67-9b9c-4cc5-96f7-28b03dbe0520",
   "metadata": {},
   "source": [
    "# Itarator\n",
    "an object that allows sequential traversal over elements in a collection (like lists, tuples, dictionaries, or sets) without needing an index."
   ]
  },
  {
   "cell_type": "code",
   "execution_count": 11,
   "id": "15bbb909-be25-436f-b740-98df7d81f374",
   "metadata": {},
   "outputs": [
    {
     "name": "stdout",
     "output_type": "stream",
     "text": [
      "1\n",
      "2\n",
      "3\n",
      "4\n",
      "suhan\n",
      "sagor\n"
     ]
    }
   ],
   "source": [
    "#iterate mane \n",
    "li=[1,2,3,4,\"suhan\", \"sagor\"]\n",
    "for i in li:\n",
    "    print(i)"
   ]
  },
  {
   "cell_type": "code",
   "execution_count": 12,
   "id": "066a09c3-c7c0-4c06-ade9-1739b5536a33",
   "metadata": {},
   "outputs": [
    {
     "name": "stdout",
     "output_type": "stream",
     "text": [
      "1\n",
      "2\n",
      "3\n"
     ]
    }
   ],
   "source": [
    "my_list = [1, 2, 3]  # Iterable\n",
    "iterator = iter(my_list)  # Convert list to an iterator\n",
    "\n",
    "print(next(iterator))  # Output: 1\n",
    "print(next(iterator))  # Output: 2\n",
    "print(next(iterator))  # Output: 3"
   ]
  },
  {
   "cell_type": "markdown",
   "id": "51d13414-ce9f-45e1-b44c-fa32448d0834",
   "metadata": {},
   "source": [
    "# Scope\n",
    "1.Local Scope 2.Global Scope"
   ]
  },
  {
   "cell_type": "code",
   "execution_count": 15,
   "id": "1ebebe89-4b68-4921-8759-16680ab45518",
   "metadata": {},
   "outputs": [
    {
     "name": "stdout",
     "output_type": "stream",
     "text": [
      "10\n"
     ]
    }
   ],
   "source": [
    "#local Scope\n",
    "def my_function():\n",
    "    x = 10  # Local variable\n",
    "    print(x)  # Accessible inside the function\n",
    "\n",
    "my_function()"
   ]
  },
  {
   "cell_type": "code",
   "execution_count": 14,
   "id": "5ac199a4-0cca-487a-a63d-4e6f99fc298d",
   "metadata": {},
   "outputs": [
    {
     "name": "stdout",
     "output_type": "stream",
     "text": [
      "Inner: 6\n",
      "Outer: 6\n"
     ]
    }
   ],
   "source": [
    "def outer():\n",
    "    y = 5  # Enclosing scope variable\n",
    "\n",
    "    def inner():\n",
    "        nonlocal y  # Allows modification of the outer function's variable\n",
    "        y += 1\n",
    "        print(\"Inner:\", y)\n",
    "\n",
    "    inner()\n",
    "    print(\"Outer:\", y)\n",
    "\n",
    "outer()"
   ]
  },
  {
   "cell_type": "markdown",
   "id": "e74b6202-a200-42b9-bacc-579ce6a20411",
   "metadata": {},
   "source": [
    "# Date Time"
   ]
  },
  {
   "cell_type": "code",
   "execution_count": 6,
   "id": "1edbc8ec-2f55-4578-92cf-ba229aece5cb",
   "metadata": {},
   "outputs": [
    {
     "name": "stdout",
     "output_type": "stream",
     "text": [
      "2025-01-29 22:08:30.832061\n",
      "Wednesday\n",
      "29\n",
      "01\n",
      "January\n",
      "\n"
     ]
    }
   ],
   "source": [
    "import datetime\n",
    "\n",
    "a=datetime.datetime.now()\n",
    "print(a)\n",
    "print(a.strftime(\"%A\"))\n",
    "print(a.strftime(\"%d\"))\n",
    "print(a.strftime(\"%m\"))\n",
    "print(a.strftime(\"%B\"))\n",
    "print(a.strftime(\"%z\"))"
   ]
  },
  {
   "cell_type": "markdown",
   "id": "ce8f7d31-44b3-4879-8bab-d11ddd933d83",
   "metadata": {},
   "source": [
    "# Math Function"
   ]
  },
  {
   "cell_type": "code",
   "execution_count": 12,
   "id": "1b773fa7-3482-4de3-af57-11433a9977dc",
   "metadata": {},
   "outputs": [
    {
     "name": "stdout",
     "output_type": "stream",
     "text": [
      "12\n",
      "74\n",
      "90\n",
      "8\n",
      "4.0\n"
     ]
    }
   ],
   "source": [
    "a= min(22,34,21,44,56,74,32,12)\n",
    "b= max(22,34,21,44,56,74,32,12)\n",
    "print(a)\n",
    "print(b)\n",
    "\n",
    "c= (-90)\n",
    "print(abs(c))\n",
    "d=pow(2,3)\n",
    "print(d)\n",
    "\n",
    "import math\n",
    "s=math.sqrt(16)\n",
    "print(s)"
   ]
  },
  {
   "cell_type": "markdown",
   "id": "0a770f50-4220-46f2-b4cb-7457e10e1ab1",
   "metadata": {},
   "source": [
    "# Regex"
   ]
  },
  {
   "cell_type": "code",
   "execution_count": 19,
   "id": "4018878e-745e-4bac-87e4-e50aa0bdc2ca",
   "metadata": {},
   "outputs": [
    {
     "name": "stdout",
     "output_type": "stream",
     "text": [
      "['a', 'm', 'e', 'i', 'a', 'i', 'm', 'a', 'm', 'e', 'a', 'l', 'd']\n",
      "[' love']\n"
     ]
    }
   ],
   "source": [
    "import re\n",
    "text=\"My name is Naim.I am 26 years old.\"\n",
    "pattern=\"[a-m]\"\n",
    "a=re.findall(pattern,text)\n",
    "print(a)\n",
    "\n",
    "t='do you love programming?'\n",
    "f='.love'\n",
    "b=re.findall(f,t)\n",
    "print(b)"
   ]
  },
  {
   "cell_type": "markdown",
   "id": "aa2d24a5-b948-465d-9bf8-2e2580ba816f",
   "metadata": {},
   "source": [
    "# File"
   ]
  },
  {
   "cell_type": "code",
   "execution_count": 25,
   "id": "a69aa985-3d77-4d90-b4f5-aa2fcb50bea7",
   "metadata": {},
   "outputs": [
    {
     "name": "stdout",
     "output_type": "stream",
     "text": [
      "My name is Naim . I am from Rajshahi.\n",
      "I am graduation completed from pust. \n"
     ]
    }
   ],
   "source": [
    "# read only\n",
    "a = open(\"t.txt\",\"r\")\n",
    "print(a.read())"
   ]
  },
  {
   "cell_type": "code",
   "execution_count": 26,
   "id": "d7add83a-62c0-43c3-968a-d62685dee5bd",
   "metadata": {},
   "outputs": [
    {
     "data": {
      "text/plain": [
       "22"
      ]
     },
     "execution_count": 26,
     "metadata": {},
     "output_type": "execute_result"
    }
   ],
   "source": [
    "# write only\n",
    "a = open(\"w.txt\",\"w\")\n",
    "a.write(\"This code for writing.\")"
   ]
  },
  {
   "cell_type": "code",
   "execution_count": 31,
   "id": "9cdedc76-d195-4a7d-a3fc-0434cd54f1d7",
   "metadata": {},
   "outputs": [],
   "source": [
    "# Delet file\n",
    "import os\n",
    "os.remove(\"t.txt\")"
   ]
  },
  {
   "cell_type": "markdown",
   "id": "635ba56d-1588-44a1-9a4c-215f391345a6",
   "metadata": {},
   "source": [
    "# Constructor\n",
    "a constructor is a special method (__init__) used to initialize objects when a class is instantiated. Constructors can be parameterized or non-parameterized."
   ]
  },
  {
   "cell_type": "code",
   "execution_count": 33,
   "id": "7ef38310-ec98-49e5-80fa-09c23ba04b71",
   "metadata": {},
   "outputs": [
    {
     "name": "stdout",
     "output_type": "stream",
     "text": [
      "Value: 10\n"
     ]
    }
   ],
   "source": [
    "# parameterized\n",
    "class Example:\n",
    "    def __init__(self):  # No parameters except 'self'\n",
    "        self.value = 10  # Default value\n",
    "    \n",
    "    def show(self):\n",
    "        print(f\"Value: {self.value}\")\n",
    "\n",
    "# Creating an object\n",
    "obj = Example()\n",
    "obj.show()  # Output: Value: 10"
   ]
  },
  {
   "cell_type": "code",
   "execution_count": 34,
   "id": "0c84900b-1c56-4b6a-aa5e-15a4d32332ed",
   "metadata": {},
   "outputs": [
    {
     "name": "stdout",
     "output_type": "stream",
     "text": [
      "Value: 50\n",
      "Value: 100\n"
     ]
    }
   ],
   "source": [
    "#non-parameterized.\n",
    "class Example:\n",
    "    def __init__(self, value):  # Parameterized constructor\n",
    "        self.value = value  # Assigning parameter value\n",
    "    \n",
    "    def show(self):\n",
    "        print(f\"Value: {self.value}\")\n",
    "\n",
    "# Creating objects with different values\n",
    "obj1 = Example(50)\n",
    "obj2 = Example(100)\n",
    "\n",
    "obj1.show()  # Output: Value: 50\n",
    "obj2.show()  # Output: Value: 100\n"
   ]
  },
  {
   "cell_type": "markdown",
   "id": "2cb0bec8-b522-4f16-8721-4fc61633a5ef",
   "metadata": {},
   "source": [
    "# Instance Method\n",
    "An instance method is a method that operates on an instance of a class. It takes self as its first parameter, which represents the instance of the class, and can access and modify instance variables."
   ]
  },
  {
   "cell_type": "code",
   "execution_count": 6,
   "id": "3a3dcf9c-d904-4efa-963d-64543d821107",
   "metadata": {},
   "outputs": [
    {
     "name": "stdout",
     "output_type": "stream",
     "text": [
      "Car Brand: Toyota, Model: Corolla\n",
      "Car Brand: Honda, Model: Civic\n"
     ]
    }
   ],
   "source": [
    "class Car:\n",
    "    def __init__(self, brand, model):  # Constructor (Initializer)\n",
    "        self.brand = brand\n",
    "        self.model = model\n",
    "\n",
    "    def display_info(self):  # Instance method\n",
    "        print(f\"Car Brand: {self.brand}, Model: {self.model}\")\n",
    "\n",
    "# Creating an instance (object)\n",
    "car1 = Car(\"Toyota\", \"Corolla\")\n",
    "car2 = Car(\"Honda\", \"Civic\")\n",
    "\n",
    "# Calling instance method\n",
    "car1.display_info()  # Output: Car Brand: Toyota, Model: Corolla\n",
    "car2.display_info()  # Output: Car Brand: Honda, Model: Civic"
   ]
  },
  {
   "cell_type": "markdown",
   "id": "2ddc06ac-67d6-4e8d-9345-71b8c081b7c4",
   "metadata": {},
   "source": [
    "# Class Method in Python\n",
    "A class method is a method that is bound to the class. It operates on the class and defined using the @classmethod decorator. Instead of self, it takes cls as its first parameter."
   ]
  },
  {
   "cell_type": "code",
   "execution_count": 10,
   "id": "20125b4d-1df6-42ff-bf12-6a9562dd20a6",
   "metadata": {},
   "outputs": [
    {
     "name": "stdout",
     "output_type": "stream",
     "text": [
      "Total Cars Created: 2\n"
     ]
    }
   ],
   "source": [
    "#modify class variables\n",
    "class Car:\n",
    "    total_cars = 0  # Class variable\n",
    "\n",
    "    def __init__(self, brand, model):\n",
    "        self.brand = brand\n",
    "        self.model = model\n",
    "        Car.total_cars += 1  # Increment class variable\n",
    "\n",
    "    @classmethod\n",
    "    def get_total_cars(cls):  # Class method\n",
    "        return f\"Total Cars Created: {cls.total_cars}\"\n",
    "\n",
    "# Creating instances\n",
    "car1 = Car(\"Toyota\", \"Corolla\")\n",
    "car2 = Car(\"Honda\", \"Civic\")\n",
    "\n",
    "# Calling the class method\n",
    "print(Car.get_total_cars()) "
   ]
  },
  {
   "cell_type": "markdown",
   "id": "a53f60ab-3ea0-4ee6-a305-6056752bd6e1",
   "metadata": {},
   "source": [
    "# Abstraction in Python\n",
    "a concept that hide the complex implementation details of a class and expose only the necessary features or functionalities.\n",
    "Real-World Analogy:\n",
    "Think of a car. You don't need to know how the engine works to drive it. The car's interface (steering wheel, pedals, etc.) abstracts away the complex details of the engine, allowing you to focus on driving. Similarly, abstraction in programming hides the internal details and provides a simple interface for interaction"
   ]
  },
  {
   "cell_type": "code",
   "execution_count": 11,
   "id": "6fc861a8-92ec-4a26-a0ba-1566c9875b9d",
   "metadata": {},
   "outputs": [
    {
     "name": "stdout",
     "output_type": "stream",
     "text": [
      "Woof!\n",
      "This animal is sleeping.\n",
      "Meow!\n",
      "This animal is sleeping.\n"
     ]
    }
   ],
   "source": [
    "from abc import ABC, abstractmethod\n",
    "\n",
    "# Abstract class\n",
    "class Animal(ABC):\n",
    "    @abstractmethod\n",
    "    def sound(self):\n",
    "        pass  # Abstract method (no implementation)\n",
    "\n",
    "    def sleep(self):\n",
    "        print(\"This animal is sleeping.\")  # Concrete method\n",
    "\n",
    "# Concrete class\n",
    "class Dog(Animal):\n",
    "    def sound(self):\n",
    "        print(\"Woof!\")  # Implementation of abstract method\n",
    "\n",
    "# Concrete class\n",
    "class Cat(Animal):\n",
    "    def sound(self):\n",
    "        print(\"Meow!\")  # Implementation of abstract method\n",
    "\n",
    "# Usage\n",
    "dog = Dog()\n",
    "dog.sound()  # Output: Woof!\n",
    "dog.sleep()  # Output: This animal is sleeping.\n",
    "\n",
    "cat = Cat()\n",
    "cat.sound()  # Output: Meow!\n",
    "cat.sleep()  # Output: This animal is sleeping.\n",
    "\n",
    "# animal = Animal()  # This will raise an error because abstract classes cannot be instantiated"
   ]
  },
  {
   "cell_type": "code",
   "execution_count": 13,
   "id": "4c27307d-e11e-4cfb-86de-2cce520a7c20",
   "metadata": {},
   "outputs": [
    {
     "name": "stdout",
     "output_type": "stream",
     "text": [
      "Car engine started!\n",
      "Bike engine started!\n"
     ]
    }
   ],
   "source": [
    "#chat gpt\n",
    "from abc import ABC, abstractmethod\n",
    "\n",
    "# Abstract class\n",
    "class Vehicle(ABC):\n",
    "    \n",
    "    @abstractmethod\n",
    "    def start(self):  # Abstract method (must be implemented by subclasses)\n",
    "        pass\n",
    "\n",
    "# Concrete subclass implementing the abstract method\n",
    "class Car(Vehicle):\n",
    "    def start(self):\n",
    "        print(\"Car engine started!\")\n",
    "\n",
    "class Bike(Vehicle):\n",
    "    def start(self):\n",
    "        print(\"Bike engine started!\")\n",
    "\n",
    "# car = Vehicle()  # ❌ This will raise an error because we cannot instantiate an abstract class\n",
    "\n",
    "car = Car()\n",
    "car.start()  # Output: Car engine started!\n",
    "\n",
    "bike = Bike()\n",
    "bike.start()  # Output: Bike engine started!\n"
   ]
  },
  {
   "cell_type": "markdown",
   "id": "31ddf61c-8709-4c14-9c81-3f5e83344e15",
   "metadata": {},
   "source": [
    "# Polymorphism\n",
    "the ability of different objects to respond to the same method or function call in different ways.jemn akjon manus bivinno character bohon kre karo jonne vai, karo jonne baba, karo jonne husband etc\n",
    "\n",
    "Types of Polymorphism in Python\n",
    "1.Method Overriding (Runtime Polymorphism)\n",
    "2.Method Overloading (Not native in Python)\n",
    "3.Operator Overloading (Special Methods / Dunder Methods)\n",
    "4.Duck Typing (Dynamic Polymorphism)"
   ]
  },
  {
   "cell_type": "code",
   "execution_count": 9,
   "id": "e3caff1f-f259-401d-bbbf-a78f993d5ae8",
   "metadata": {},
   "outputs": [
    {
     "name": "stdout",
     "output_type": "stream",
     "text": [
      "Toyota 36i8\n",
      "Mersitise 6678 riso component\n",
      "Hundai 0078 neso component\n"
     ]
    }
   ],
   "source": [
    "class Vehicle:      #parent\n",
    "    def __init__(self,name,model,component):\n",
    "        self.name= name\n",
    "        self.model = model\n",
    "        self.component = component\n",
    "#wife\n",
    "class Car(Vehicle):\n",
    "    pass\n",
    "\n",
    "#father\n",
    "class Bike(Car):\n",
    "    pass\n",
    "\n",
    "\n",
    "v=Vehicle(\"Toyota\",\"36i8\",\"venis component\")\n",
    "print(v.name,v.model)\n",
    "c=Car(\"Mersitise\",\"6678\",\"riso component\")\n",
    "print(c.name,c.model,c.component)\n",
    "b=Bike(\"Hundai\",\"0078\",\"neso component\")\n",
    "print(b.name,b.model,b.component)"
   ]
  },
  {
   "cell_type": "raw",
   "id": "b850ab18-39ca-42f3-ac42-c9b6980f7b0f",
   "metadata": {},
   "source": [
    "Overriding the method"
   ]
  },
  {
   "cell_type": "code",
   "execution_count": 15,
   "id": "d3f8339d-3c78-440a-990f-8bfb28945a08",
   "metadata": {},
   "outputs": [
    {
     "name": "stdout",
     "output_type": "stream",
     "text": [
      "Bark\n",
      "Meow\n",
      "Some generic sound\n"
     ]
    }
   ],
   "source": [
    "class Animal:\n",
    "    def make_sound(self):\n",
    "        return \"Some generic sound\"\n",
    "\n",
    "class Dog(Animal):\n",
    "    def make_sound(self):  # Overriding the method\n",
    "        return \"Bark\"\n",
    "\n",
    "class Cat(Animal):\n",
    "    def make_sound(self):  # Overriding the method\n",
    "        return \"Meow\"\n",
    "\n",
    "# Runtime Polymorphism\n",
    "animals = [Dog(), Cat(), Animal()]\n",
    "for animal in animals:\n",
    "    print(animal.make_sound())  # Different output based on the object type\n"
   ]
  },
  {
   "cell_type": "raw",
   "id": "d39891d2-4234-4966-a7a2-db146825d525",
   "metadata": {},
   "source": [
    "2. Method overloading"
   ]
  },
  {
   "cell_type": "code",
   "execution_count": 17,
   "id": "a554aac1-9e19-4802-bb41-f7dede9c98b6",
   "metadata": {},
   "outputs": [
    {
     "name": "stdout",
     "output_type": "stream",
     "text": [
      "15\n",
      "35\n"
     ]
    }
   ],
   "source": [
    "# the add method is overloaded using a default parameter c, allowing different numbers of arguments.\n",
    "class MathOperations:\n",
    "    def add(self, a, b, c=0):\n",
    "        return a + b + c  # If 'c' is not provided, it defaults to 0\n",
    "\n",
    "math_op = MathOperations()\n",
    "print(math_op.add(5, 10))      # Output: 15\n",
    "print(math_op.add(5, 10, 20))  # Output: 35"
   ]
  },
  {
   "cell_type": "markdown",
   "id": "eefecc9b-882a-4f3a-9f85-3541b15a5bdd",
   "metadata": {},
   "source": [
    "# Encapsulation in Python E=VM ,v=variables,m= methods\n",
    " It refers to the bundling of data (variables) and methods (functions) into a single unit (class) and restricting direct access to some details of an object to protect data from unintended modifications."
   ]
  },
  {
   "cell_type": "code",
   "execution_count": 18,
   "id": "7daf6450-2dac-4139-ab8c-16ab75b07fd2",
   "metadata": {},
   "outputs": [
    {
     "name": "stdout",
     "output_type": "stream",
     "text": [
      "12345\n",
      "1000\n",
      "Deposited 500, new balance: 1500\n",
      "Balance: 1500\n"
     ]
    }
   ],
   "source": [
    "class BankAccount:\n",
    "    def __init__(self, account_number, balance):\n",
    "        self._account_number = account_number  # Protected attribute\n",
    "        self.__balance = balance  # Private attribute\n",
    "\n",
    "    def deposit(self, amount):\n",
    "        if amount > 0:\n",
    "            self.__balance += amount\n",
    "            print(f\"Deposited {amount}, new balance: {self.__balance}\")\n",
    "        else:\n",
    "            print(\"Deposit amount must be positive\")\n",
    "\n",
    "    def __show_balance(self):  # Private method\n",
    "        return f\"Balance: {self.__balance}\"\n",
    "\n",
    "    def get_balance(self):\n",
    "        return self.__show_balance()  # Accessing private method inside the class\n",
    "\n",
    "# Creating an object\n",
    "account = BankAccount(\"12345\", 1000)\n",
    "\n",
    "# Accessing protected attribute (not recommended)\n",
    "print(account._account_number)  # Works, but should be avoided\n",
    "\n",
    "# Accessing private attribute (raises an error)\n",
    "# print(account.__balance)  # AttributeError: 'BankAccount' object has no attribute '__balance'\n",
    "\n",
    "# Accessing private attribute using name mangling\n",
    "print(account._BankAccount__balance)  # Works but should be avoided\n",
    "\n",
    "# Depositing money (allowed via public method)\n",
    "account.deposit(500)  \n",
    "\n",
    "# Accessing private method using public method\n",
    "print(account.get_balance())  # Works\n"
   ]
  },
  {
   "cell_type": "code",
   "execution_count": 19,
   "id": "07bc7ad7-a020-4d98-932b-edb4b4fd6bde",
   "metadata": {},
   "outputs": [
    {
     "name": "stdout",
     "output_type": "stream",
     "text": [
      "Alice\n",
      "1000\n",
      "1500\n",
      "Balance cannot be negative!\n",
      "Deposited 500. New balance: 2000\n",
      "Withdrew 200. New balance: 1800\n"
     ]
    }
   ],
   "source": [
    "class BankAccount:\n",
    "    def __init__(self, account_holder, balance):\n",
    "        self.account_holder = account_holder  # Public attribute\n",
    "        self.__balance = balance  # Private attribute\n",
    "\n",
    "    # Getter for balance (using @property)\n",
    "    @property\n",
    "    def balance(self):\n",
    "        return self.__balance\n",
    "\n",
    "    # Setter for balance (using @balance.setter)\n",
    "    @balance.setter\n",
    "    def balance(self, amount):\n",
    "        if amount < 0:\n",
    "            print(\"Balance cannot be negative!\")\n",
    "        else:\n",
    "            self.__balance = amount\n",
    "\n",
    "    def deposit(self, amount):\n",
    "        if amount > 0:\n",
    "            self.__balance += amount\n",
    "            print(f\"Deposited {amount}. New balance: {self.__balance}\")\n",
    "        else:\n",
    "            print(\"Invalid deposit amount!\")\n",
    "\n",
    "    def withdraw(self, amount):\n",
    "        if 0 < amount <= self.__balance:\n",
    "            self.__balance -= amount\n",
    "            print(f\"Withdrew {amount}. New balance: {self.__balance}\")\n",
    "        else:\n",
    "            print(\"Invalid withdrawal amount!\")\n",
    "\n",
    "# Create an object\n",
    "account = BankAccount(\"Alice\", 1000)\n",
    "\n",
    "# Access public attribute\n",
    "print(account.account_holder)  # Output: Alice\n",
    "\n",
    "# Access private attribute (will raise an error)\n",
    "# print(account.__balance)  # AttributeError: 'BankAccount' object has no attribute '__balance'\n",
    "\n",
    "# Use getter to access private attribute\n",
    "print(account.balance)  # Output: 1000\n",
    "\n",
    "# Use setter to modify private attribute\n",
    "account.balance = 1500\n",
    "print(account.balance)  # Output: 1500\n",
    "\n",
    "# Try setting invalid balance\n",
    "account.balance = -100  # Output: Balance cannot be negative!\n",
    "\n",
    "# Deposit and withdraw\n",
    "account.deposit(500)  # Output: Deposited 500. New balance: 2000\n",
    "account.withdraw(200)  # Output: Withdrew 200. New balance: 1800"
   ]
  },
  {
   "cell_type": "markdown",
   "id": "9c5debfe-5ea1-499b-a5f5-4e49222e2ed7",
   "metadata": {},
   "source": [
    "# Project 1.Merge the PDF project"
   ]
  },
  {
   "cell_type": "code",
   "execution_count": 24,
   "id": "278893d3-3e6e-4e28-a8c6-edac33520387",
   "metadata": {},
   "outputs": [],
   "source": [
    "from PyPDF2 import PdfMerger\n",
    "\n",
    "pdf_list = ['1.pdf','2.pdf','3.pdf']\n",
    "merger=PdfMerger()\n",
    "\n",
    "for new in pdf_list:\n",
    "    merger.append(new)\n",
    "\n",
    "merger.write(\"Hablu.pdf\")\n",
    "merger.close()"
   ]
  },
  {
   "cell_type": "markdown",
   "id": "cd278a73-101a-471c-b92f-0384d1e5a502",
   "metadata": {},
   "source": [
    "# Project 1.Mad Libs Genarator"
   ]
  },
  {
   "cell_type": "code",
   "execution_count": 25,
   "id": "622ae1be-1b36-4705-b486-161dabf8dc50",
   "metadata": {},
   "outputs": [
    {
     "name": "stdout",
     "output_type": "stream",
     "text": [
      "Welcome to the Mad Libs Game! 🎉\n",
      "\n"
     ]
    },
    {
     "name": "stdin",
     "output_type": "stream",
     "text": [
      "Enter a noun:  Rina\n",
      "Enter an adjective:  Beautiful\n",
      "Enter a verb:  reading\n",
      "Enter a place:  Dhaka\n"
     ]
    },
    {
     "name": "stdout",
     "output_type": "stream",
     "text": [
      "\n",
      "Here is your Mad Libs story! 😃\n",
      "\n",
      "    Once upon a time, in a Beautiful Dhaka, there was a Rina.\n",
      "    Every day, it would reading joyfully.\n",
      "    One day, something magical happened, and everything changed forever!\n",
      "    \n"
     ]
    }
   ],
   "source": [
    "def mad_libs():\n",
    "    print(\"Welcome to the Mad Libs Game! 🎉\\n\")\n",
    "\n",
    "    # Taking user inputs\n",
    "    noun = input(\"Enter a noun: \")\n",
    "    adjective = input(\"Enter an adjective: \")\n",
    "    verb = input(\"Enter a verb: \")\n",
    "    place = input(\"Enter a place: \")\n",
    "\n",
    "    # Story template\n",
    "    story = f\"\"\"\n",
    "    Once upon a time, in a {adjective} {place}, there was a {noun}.\n",
    "    Every day, it would {verb} joyfully.\n",
    "    One day, something magical happened, and everything changed forever!\n",
    "    \"\"\"\n",
    "\n",
    "    print(\"\\nHere is your Mad Libs story! 😃\")\n",
    "    print(story)\n",
    "\n",
    "# Run the game\n",
    "mad_libs()\n"
   ]
  },
  {
   "cell_type": "markdown",
   "id": "eaf38a47-45df-4a7e-a178-069bb8051bb7",
   "metadata": {},
   "source": [
    "# 3 Random Number Guessing Game"
   ]
  },
  {
   "cell_type": "code",
   "execution_count": null,
   "id": "95d0fbae-da27-4e5a-a02e-a1c685c3920c",
   "metadata": {},
   "outputs": [],
   "source": [
    "import random\n",
    "\n",
    "def Guessing():\n",
    "    print(\"Try Guessing Game\")\n",
    "    ranDom = random.randint(1, 6)\n",
    "\n",
    "    while True:\n",
    "        try:\n",
    "            guess = int(input(\"Enter a number for this game (1-6): \"))\n",
    "            \n",
    "            if guess > ranDom:\n",
    "                print(\"Number is too high!\")\n",
    "            elif guess < ranDom:\n",
    "                print(\"Number is too low!\")\n",
    "            else:\n",
    "                print(\"You have won the game!\")\n",
    "                break  # Stop the loop when the correct number is guessed\n",
    "                \n",
    "        except ValueError:\n",
    "            print(\"Invalid input! Please enter a number.\")\n",
    "\n",
    "Guessing()\n"
   ]
  },
  {
   "cell_type": "markdown",
   "id": "7f7573a2-80b8-4066-b2a1-8c3c604ea417",
   "metadata": {},
   "source": [
    "# 4.Text Based Adventure Game"
   ]
  },
  {
   "cell_type": "code",
   "execution_count": 9,
   "id": "faafdc6f-5064-4a67-87a6-3e781d959ba8",
   "metadata": {},
   "outputs": [
    {
     "name": "stdin",
     "output_type": "stream",
     "text": [
      "Do you want to play this game ? yes or no :  Yes\n",
      "Where do you want to go ? jungle or cave? jungle\n"
     ]
    },
    {
     "name": "stdout",
     "output_type": "stream",
     "text": [
      "Jungle is very beautiful .\n"
     ]
    }
   ],
   "source": [
    "answer = input(\"Do you want to play this game ? yes or no : \")\n",
    "if answer==\"yes\" or \"Yes\":\n",
    "    ans = input(\"Where do you want to go ? jungle or cave?\")\n",
    "    if ans==\"jungle\":\n",
    "        print(\"Jungle is very beautiful .\")\n",
    "    elif ans==\"cave\":\n",
    "        print(\"Cave is so dark .\")\n",
    "    else:\n",
    "        print(\"Your answer is wrong.\")\n",
    "else:\n",
    "    print(\"The game is Closed. If you want to play ,run again.\")"
   ]
  },
  {
   "cell_type": "markdown",
   "id": "4376bec0-68fe-435f-bedc-242595cfd364",
   "metadata": {},
   "source": [
    "# 5. Dice Rolling Simulator Game"
   ]
  },
  {
   "cell_type": "code",
   "execution_count": 10,
   "id": "f6059c0e-8067-40e0-99f4-84703cea6e7b",
   "metadata": {},
   "outputs": [
    {
     "name": "stdout",
     "output_type": "stream",
     "text": [
      "1\n"
     ]
    },
    {
     "name": "stdin",
     "output_type": "stream",
     "text": [
      "Do you want to roll again [y/n] :  y\n"
     ]
    },
    {
     "name": "stdout",
     "output_type": "stream",
     "text": [
      "3\n"
     ]
    },
    {
     "name": "stdin",
     "output_type": "stream",
     "text": [
      "Do you want to roll again [y/n] :  y\n"
     ]
    },
    {
     "name": "stdout",
     "output_type": "stream",
     "text": [
      "6\n"
     ]
    },
    {
     "name": "stdin",
     "output_type": "stream",
     "text": [
      "Do you want to roll again [y/n] :  y\n"
     ]
    },
    {
     "name": "stdout",
     "output_type": "stream",
     "text": [
      "4\n"
     ]
    },
    {
     "name": "stdin",
     "output_type": "stream",
     "text": [
      "Do you want to roll again [y/n] :  y\n"
     ]
    },
    {
     "name": "stdout",
     "output_type": "stream",
     "text": [
      "6\n"
     ]
    },
    {
     "name": "stdin",
     "output_type": "stream",
     "text": [
      "Do you want to roll again [y/n] :  y\n"
     ]
    },
    {
     "name": "stdout",
     "output_type": "stream",
     "text": [
      "4\n"
     ]
    },
    {
     "name": "stdin",
     "output_type": "stream",
     "text": [
      "Do you want to roll again [y/n] :  y\n"
     ]
    },
    {
     "name": "stdout",
     "output_type": "stream",
     "text": [
      "4\n"
     ]
    },
    {
     "name": "stdin",
     "output_type": "stream",
     "text": [
      "Do you want to roll again [y/n] :  y\n"
     ]
    },
    {
     "name": "stdout",
     "output_type": "stream",
     "text": [
      "2\n"
     ]
    },
    {
     "name": "stdin",
     "output_type": "stream",
     "text": [
      "Do you want to roll again [y/n] :  n\n"
     ]
    },
    {
     "name": "stdout",
     "output_type": "stream",
     "text": [
      "Game Over\n"
     ]
    }
   ],
   "source": [
    "import random\n",
    "while True:\n",
    "    print(random.randint(1,7))\n",
    "    playAgain= input(\"Do you want to roll again [y/n] : \")\n",
    "    if playAgain=='y':\n",
    "        continue\n",
    "    else:\n",
    "        print(\"Game Over\")\n",
    "        break\n",
    "    "
   ]
  },
  {
   "cell_type": "markdown",
   "id": "6989ffb2-27ab-4ce6-a4c4-28e42f0e4dd2",
   "metadata": {},
   "source": [
    "# 6.Hangman Game"
   ]
  },
  {
   "cell_type": "code",
   "execution_count": 11,
   "id": "d2866e85-b845-4f66-a543-337cf61f1ba2",
   "metadata": {},
   "outputs": [
    {
     "name": "stdout",
     "output_type": "stream",
     "text": [
      "_ _ _ _ _ "
     ]
    },
    {
     "name": "stdin",
     "output_type": "stream",
     "text": [
      "Your chance is 5 ,guess the letter :  n\n"
     ]
    },
    {
     "name": "stdout",
     "output_type": "stream",
     "text": [
      "_ _ _ _ _ "
     ]
    },
    {
     "name": "stdin",
     "output_type": "stream",
     "text": [
      "Your chance is 4 ,guess the letter :  i\n"
     ]
    },
    {
     "name": "stdout",
     "output_type": "stream",
     "text": [
      "_ _ _ _ _ "
     ]
    },
    {
     "name": "stdin",
     "output_type": "stream",
     "text": [
      "Your chance is 3 ,guess the letter :  a\n"
     ]
    },
    {
     "name": "stdout",
     "output_type": "stream",
     "text": [
      "_ a _ _ _ "
     ]
    },
    {
     "name": "stdin",
     "output_type": "stream",
     "text": [
      "Your chance is 3 ,guess the letter :  b\n"
     ]
    },
    {
     "name": "stdout",
     "output_type": "stream",
     "text": [
      "_ a b _ _ "
     ]
    },
    {
     "name": "stdin",
     "output_type": "stream",
     "text": [
      "Your chance is 3 ,guess the letter :  l\n"
     ]
    },
    {
     "name": "stdout",
     "output_type": "stream",
     "text": [
      "_ a b l _ "
     ]
    },
    {
     "name": "stdin",
     "output_type": "stream",
     "text": [
      "Your chance is 3 ,guess the letter :  u\n"
     ]
    },
    {
     "name": "stdout",
     "output_type": "stream",
     "text": [
      "_ a b l u "
     ]
    },
    {
     "name": "stdin",
     "output_type": "stream",
     "text": [
      "Your chance is 3 ,guess the letter :  h\n"
     ]
    },
    {
     "name": "stdout",
     "output_type": "stream",
     "text": [
      "yes, You won the game.\n"
     ]
    }
   ],
   "source": [
    "word=\"Hablu\"\n",
    "chance=5\n",
    "guessadd =[]\n",
    "done=False\n",
    "\n",
    "while not done:\n",
    "    for letter in word:\n",
    "        if letter.lower() in guessadd:\n",
    "            print(letter, end= \" \")\n",
    "        else:\n",
    "            print(\"_\", end=\" \")\n",
    "    mygess=input(f\"Your chance is {chance} ,guess the letter : \")\n",
    "    guessadd.append(mygess.lower())\n",
    "    if mygess.lower() not in word.lower():\n",
    "        chance -= 1\n",
    "        if chance==0:\n",
    "            break\n",
    "    done=True\n",
    "    for letter in word:\n",
    "        if letter.lower() not in guessadd:\n",
    "            done=False\n",
    "if done:\n",
    "    print(\"yes, You won the game.\")\n",
    "else:\n",
    "    print(\"You loose the game.\")\n",
    "        \n",
    "        "
   ]
  },
  {
   "cell_type": "markdown",
   "id": "8c30450c-e019-4243-a881-a53be020f99d",
   "metadata": {},
   "source": [
    "# 7 Contact Book App"
   ]
  },
  {
   "cell_type": "code",
   "execution_count": 14,
   "id": "2b8f8597-07ce-4511-875a-cff7e45cd6a9",
   "metadata": {},
   "outputs": [
    {
     "name": "stdin",
     "output_type": "stream",
     "text": [
      "1. Add new contact \n",
      "2. Search the contact \n",
      "3. Display the contact \n",
      "4. Edit the contact \n",
      "5. Delete the contact \n",
      "6. Exit \n",
      "Please write number between 1-6:  3\n"
     ]
    },
    {
     "name": "stdout",
     "output_type": "stream",
     "text": [
      "Contact book is empty\n"
     ]
    },
    {
     "name": "stdin",
     "output_type": "stream",
     "text": [
      "1. Add new contact \n",
      "2. Search the contact \n",
      "3. Display the contact \n",
      "4. Edit the contact \n",
      "5. Delete the contact \n",
      "6. Exit \n",
      "Please write number between 1-6:  1\n",
      "Add your contact name:  naim\n",
      "Add your phone number:  0123\n",
      "1. Add new contact \n",
      "2. Search the contact \n",
      "3. Display the contact \n",
      "4. Edit the contact \n",
      "5. Delete the contact \n",
      "6. Exit \n",
      "Please write number between 1-6:  3\n"
     ]
    },
    {
     "name": "stdout",
     "output_type": "stream",
     "text": [
      "dict_items([('naim', '0123')])\n",
      "Name \t Contact\n",
      "naim \t 0123\n"
     ]
    },
    {
     "name": "stdin",
     "output_type": "stream",
     "text": [
      "1. Add new contact \n",
      "2. Search the contact \n",
      "3. Display the contact \n",
      "4. Edit the contact \n",
      "5. Delete the contact \n",
      "6. Exit \n",
      "Please write number between 1-6:  4\n",
      "Edit Your Contact:  nisan\n"
     ]
    },
    {
     "name": "stdout",
     "output_type": "stream",
     "text": [
      "Name is Not Found\n"
     ]
    },
    {
     "name": "stdin",
     "output_type": "stream",
     "text": [
      "1. Add new contact \n",
      "2. Search the contact \n",
      "3. Display the contact \n",
      "4. Edit the contact \n",
      "5. Delete the contact \n",
      "6. Exit \n",
      "Please write number between 1-6:  3\n"
     ]
    },
    {
     "name": "stdout",
     "output_type": "stream",
     "text": [
      "dict_items([('naim', '0123')])\n",
      "Name \t Contact\n",
      "naim \t 0123\n"
     ]
    },
    {
     "name": "stdin",
     "output_type": "stream",
     "text": [
      "1. Add new contact \n",
      "2. Search the contact \n",
      "3. Display the contact \n",
      "4. Edit the contact \n",
      "5. Delete the contact \n",
      "6. Exit \n",
      "Please write number between 1-6:  5\n",
      "Which contact do you want to Delete :  naim\n",
      "Do you want to delete thsi contact y/n y\n"
     ]
    },
    {
     "name": "stdout",
     "output_type": "stream",
     "text": [
      "dict_items([])\n",
      "Name \t Contact\n"
     ]
    },
    {
     "name": "stdin",
     "output_type": "stream",
     "text": [
      "1. Add new contact \n",
      "2. Search the contact \n",
      "3. Display the contact \n",
      "4. Edit the contact \n",
      "5. Delete the contact \n",
      "6. Exit \n",
      "Please write number between 1-6:  3\n"
     ]
    },
    {
     "name": "stdout",
     "output_type": "stream",
     "text": [
      "Contact book is empty\n"
     ]
    },
    {
     "name": "stdin",
     "output_type": "stream",
     "text": [
      "1. Add new contact \n",
      "2. Search the contact \n",
      "3. Display the contact \n",
      "4. Edit the contact \n",
      "5. Delete the contact \n",
      "6. Exit \n",
      "Please write number between 1-6:  1\n",
      "Add your contact name:  nisan\n",
      "Add your phone number:  098\n",
      "1. Add new contact \n",
      "2. Search the contact \n",
      "3. Display the contact \n",
      "4. Edit the contact \n",
      "5. Delete the contact \n",
      "6. Exit \n",
      "Please write number between 1-6:  3\n"
     ]
    },
    {
     "name": "stdout",
     "output_type": "stream",
     "text": [
      "dict_items([('nisan', '098')])\n",
      "Name \t Contact\n",
      "nisan \t 098\n"
     ]
    },
    {
     "name": "stdin",
     "output_type": "stream",
     "text": [
      "1. Add new contact \n",
      "2. Search the contact \n",
      "3. Display the contact \n",
      "4. Edit the contact \n",
      "5. Delete the contact \n",
      "6. Exit \n",
      "Please write number between 1-6:  4\n",
      "Edit Your Contact:  masud\n"
     ]
    },
    {
     "name": "stdout",
     "output_type": "stream",
     "text": [
      "Name is Not Found\n"
     ]
    },
    {
     "name": "stdin",
     "output_type": "stream",
     "text": [
      "1. Add new contact \n",
      "2. Search the contact \n",
      "3. Display the contact \n",
      "4. Edit the contact \n",
      "5. Delete the contact \n",
      "6. Exit \n",
      "Please write number between 1-6:  4\n",
      "Edit Your Contact:  nisan\n",
      "Change Your Number:  masud\n"
     ]
    },
    {
     "name": "stdout",
     "output_type": "stream",
     "text": [
      "Contact Updated successfully\n",
      "dict_items([('nisan', 'masud')])\n",
      "Name \t Contact\n",
      "nisan \t masud\n"
     ]
    },
    {
     "name": "stdin",
     "output_type": "stream",
     "text": [
      "1. Add new contact \n",
      "2. Search the contact \n",
      "3. Display the contact \n",
      "4. Edit the contact \n",
      "5. Delete the contact \n",
      "6. Exit \n",
      "Please write number between 1-6:  3\n"
     ]
    },
    {
     "name": "stdout",
     "output_type": "stream",
     "text": [
      "dict_items([('nisan', 'masud')])\n",
      "Name \t Contact\n",
      "nisan \t masud\n"
     ]
    },
    {
     "name": "stdin",
     "output_type": "stream",
     "text": [
      "1. Add new contact \n",
      "2. Search the contact \n",
      "3. Display the contact \n",
      "4. Edit the contact \n",
      "5. Delete the contact \n",
      "6. Exit \n",
      "Please write number between 1-6:  6\n"
     ]
    }
   ],
   "source": [
    "Contact ={}\n",
    "def Show():\n",
    "    print(Contact.items())\n",
    "    print(\"Name \\t Contact\")\n",
    "    for key in Contact:\n",
    "        print(\"{} \\t {}\".format(key,Contact.get(key)))\n",
    "    \n",
    "while True:\n",
    "    choice = int(input(\"1. Add new contact \\n\"\n",
    "                   \"2. Search the contact \\n\"\n",
    "                   \"3. Display the contact \\n\"\n",
    "                   \"4. Edit the contact \\n\"\n",
    "                   \"5. Delete the contact \\n\"\n",
    "                   \"6. Exit \\n\"\n",
    "                   \"Please write number between 1-6: \"))\n",
    "\n",
    "    if choice==1:\n",
    "        name=input(\"Add your contact name: \")\n",
    "        phone =input(\"Add your phone number: \")\n",
    "        Contact[name] =phone\n",
    "    elif choice==2:\n",
    "        ContactName=input(\"Search the contact\")\n",
    "        if ContactName in Contact:\n",
    "            print(ContactName,\"contact number is \",Contact[ContactName])\n",
    "        else:\n",
    "            print(\"Not Found the Contact\")\n",
    "\n",
    "    elif choice==3:\n",
    "        if not Contact:\n",
    "            print(\"Contact book is empty\")\n",
    "        else:\n",
    "            Show()\n",
    "    elif choice==4:\n",
    "        EditCon= input(\"Edit Your Contact: \")\n",
    "        if EditCon in Contact:\n",
    "            phone=input(\"Change Your Number: \")\n",
    "            Contact[EditCon]=phone\n",
    "            print(\"Contact Updated successfully\")\n",
    "            Show()\n",
    "        else:\n",
    "            print(\"Name is Not Found\")\n",
    "    elif choice==5:\n",
    "        Del_con = input(\"Which contact do you want to Delete : \")\n",
    "        if Del_con in Contact:\n",
    "            DeleteConfirm = input(\"Do you want to delete thsi contact y/n\")\n",
    "            if DeleteConfirm ==\"y\" or \"Y\":\n",
    "                Contact.pop(Del_con)\n",
    "            Show()\n",
    "        else:\n",
    "            print(\"The name is Not found in the Contact\")\n",
    "    else:\n",
    "        break\n",
    "    "
   ]
  },
  {
   "cell_type": "markdown",
   "id": "c2ebd666-c9b2-4624-8586-04444685b088",
   "metadata": {},
   "source": [
    "# 8.Desktop Notifier"
   ]
  },
  {
   "cell_type": "code",
   "execution_count": 19,
   "id": "4ea63ded-10cd-45d8-80ca-8b5720f05b3d",
   "metadata": {},
   "outputs": [
    {
     "name": "stderr",
     "output_type": "stream",
     "text": [
      "WNDPROC return value cannot be converted to LRESULT\n"
     ]
    },
    {
     "ename": "TypeError",
     "evalue": "WPARAM is simple, so must be an int object (got NoneType)",
     "output_type": "error",
     "traceback": [
      "\u001b[1;31m---------------------------------------------------------------------------\u001b[0m",
      "\u001b[1;31mTypeError\u001b[0m                                 Traceback (most recent call last)",
      "\u001b[1;31mTypeError\u001b[0m: WPARAM is simple, so must be an int object (got NoneType)"
     ]
    },
    {
     "name": "stderr",
     "output_type": "stream",
     "text": [
      "WNDPROC return value cannot be converted to LRESULT\n"
     ]
    },
    {
     "ename": "TypeError",
     "evalue": "WPARAM is simple, so must be an int object (got NoneType)",
     "output_type": "error",
     "traceback": [
      "\u001b[1;31m---------------------------------------------------------------------------\u001b[0m",
      "\u001b[1;31mTypeError\u001b[0m                                 Traceback (most recent call last)",
      "\u001b[1;31mTypeError\u001b[0m: WPARAM is simple, so must be an int object (got NoneType)"
     ]
    },
    {
     "name": "stderr",
     "output_type": "stream",
     "text": [
      "WNDPROC return value cannot be converted to LRESULT\n"
     ]
    },
    {
     "ename": "TypeError",
     "evalue": "WPARAM is simple, so must be an int object (got NoneType)",
     "output_type": "error",
     "traceback": [
      "\u001b[1;31m---------------------------------------------------------------------------\u001b[0m",
      "\u001b[1;31mTypeError\u001b[0m                                 Traceback (most recent call last)",
      "\u001b[1;31mTypeError\u001b[0m: WPARAM is simple, so must be an int object (got NoneType)"
     ]
    },
    {
     "data": {
      "text/plain": [
       "True"
      ]
     },
     "execution_count": 19,
     "metadata": {},
     "output_type": "execute_result"
    }
   ],
   "source": [
    "from win10toast import ToastNotifier\n",
    "toast = ToastNotifier()\n",
    "toast.show_toast(\"Learning Time\",\"Hello naim Its time to learn something\",duration=5)\n",
    "toast.show_toast(\"Learning Time\",\"Hello naim Its time to learn something\",duration=10)\n",
    "toast.show_toast(\"Learning Time\",\"Hello naim Its time to learn something\",duration=3)"
   ]
  },
  {
   "cell_type": "code",
   "execution_count": null,
   "id": "de4f404b-c18b-4e7e-bf91-25fe651c934a",
   "metadata": {},
   "outputs": [],
   "source": []
  }
 ],
 "metadata": {
  "kernelspec": {
   "display_name": "Python 3 (ipykernel)",
   "language": "python",
   "name": "python3"
  },
  "language_info": {
   "codemirror_mode": {
    "name": "ipython",
    "version": 3
   },
   "file_extension": ".py",
   "mimetype": "text/x-python",
   "name": "python",
   "nbconvert_exporter": "python",
   "pygments_lexer": "ipython3",
   "version": "3.12.8"
  }
 },
 "nbformat": 4,
 "nbformat_minor": 5
}
