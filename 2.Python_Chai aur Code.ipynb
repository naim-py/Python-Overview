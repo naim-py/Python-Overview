{
 "cells": [
  {
   "cell_type": "code",
   "execution_count": 2,
   "id": "2c2b2ed3-9dfb-49fd-8e2a-f5e48c61b1a8",
   "metadata": {},
   "outputs": [
    {
     "name": "stdout",
     "output_type": "stream",
     "text": [
      "green\n"
     ]
    }
   ],
   "source": [
    "tea_varities= [\"Black\",\"white\",\"green\"]\n",
    "print(tea_varities[-1])"
   ]
  },
  {
   "cell_type": "code",
   "execution_count": 3,
   "id": "3842118c-471b-4620-8929-0ad5cf7e3180",
   "metadata": {},
   "outputs": [
    {
     "name": "stdout",
     "output_type": "stream",
     "text": [
      "['white', 'green']\n"
     ]
    }
   ],
   "source": [
    "print(tea_varities[1:3])"
   ]
  },
  {
   "cell_type": "code",
   "execution_count": 4,
   "id": "45db38ac-35a5-441b-a183-63282d023f52",
   "metadata": {},
   "outputs": [
    {
     "name": "stdout",
     "output_type": "stream",
     "text": [
      "['Black', 'white', 'green']\n"
     ]
    }
   ],
   "source": [
    "print(tea_varities[:])"
   ]
  },
  {
   "cell_type": "code",
   "execution_count": 5,
   "id": "81814bec-ad2c-460f-a069-0dd8c39e7421",
   "metadata": {},
   "outputs": [
    {
     "name": "stdout",
     "output_type": "stream",
     "text": [
      "['Black', 'white']\n"
     ]
    }
   ],
   "source": [
    "print(tea_varities[:2])"
   ]
  },
  {
   "cell_type": "code",
   "execution_count": 6,
   "id": "53102560-0f7f-45f3-be10-517d5bd3163b",
   "metadata": {},
   "outputs": [
    {
     "name": "stdout",
     "output_type": "stream",
     "text": [
      "['green']\n"
     ]
    }
   ],
   "source": [
    "print(tea_varities[2:])"
   ]
  },
  {
   "cell_type": "code",
   "execution_count": 12,
   "id": "cfc4313f-ed0d-4dcc-8c53-32304aaa408f",
   "metadata": {},
   "outputs": [],
   "source": [
    "tea_varities[2]=\"Hermoni\"\n",
    "tea_varities[1:3]=\"Green\""
   ]
  },
  {
   "cell_type": "code",
   "execution_count": 13,
   "id": "ef667a7e-495b-4cea-a4d0-9ce721e88015",
   "metadata": {},
   "outputs": [
    {
     "data": {
      "text/plain": [
       "['Black', 'G', 'r', 'e', 'e', 'n']"
      ]
     },
     "execution_count": 13,
     "metadata": {},
     "output_type": "execute_result"
    }
   ],
   "source": [
    "tea_varities"
   ]
  },
  {
   "cell_type": "code",
   "execution_count": 14,
   "id": "27a98604-b97e-4a79-8c48-fa9f76d15cc6",
   "metadata": {},
   "outputs": [],
   "source": [
    "li=[\"red\",'blue','green','yellow']"
   ]
  },
  {
   "cell_type": "code",
   "execution_count": 19,
   "id": "2dbb38c6-1ae4-49f5-96a3-befc40251059",
   "metadata": {},
   "outputs": [
    {
     "data": {
      "text/plain": [
       "[]"
      ]
     },
     "execution_count": 19,
     "metadata": {},
     "output_type": "execute_result"
    }
   ],
   "source": [
    "li[1:1]"
   ]
  },
  {
   "cell_type": "code",
   "execution_count": 20,
   "id": "8501fcf5-0799-4bcc-8b0e-8e59f12c998d",
   "metadata": {},
   "outputs": [
    {
     "data": {
      "text/plain": [
       "['red', 'test', 'test', 'blue', 'green', 'yellow']"
      ]
     },
     "execution_count": 20,
     "metadata": {},
     "output_type": "execute_result"
    }
   ],
   "source": [
    "li[1:1]=[\"test\",\"test\"]\n",
    "li"
   ]
  },
  {
   "cell_type": "code",
   "execution_count": 21,
   "id": "aab2c799-477a-411d-9971-4efccb895506",
   "metadata": {},
   "outputs": [],
   "source": [
    "li[1:3]=[]"
   ]
  },
  {
   "cell_type": "code",
   "execution_count": 22,
   "id": "17a1f092-f58a-45f3-a493-c3c569e5d8a9",
   "metadata": {},
   "outputs": [
    {
     "data": {
      "text/plain": [
       "['red', 'blue', 'green', 'yellow']"
      ]
     },
     "execution_count": 22,
     "metadata": {},
     "output_type": "execute_result"
    }
   ],
   "source": [
    "li"
   ]
  },
  {
   "cell_type": "code",
   "execution_count": 23,
   "id": "c26bb965-312f-4172-9ffe-633458a3a7eb",
   "metadata": {},
   "outputs": [],
   "source": [
    "li.append(\"water\")"
   ]
  },
  {
   "cell_type": "code",
   "execution_count": 24,
   "id": "891e3fad-867e-4b15-aa33-a00a9d79353c",
   "metadata": {},
   "outputs": [
    {
     "data": {
      "text/plain": [
       "['red', 'blue', 'green', 'yellow', 'water']"
      ]
     },
     "execution_count": 24,
     "metadata": {},
     "output_type": "execute_result"
    }
   ],
   "source": [
    "li"
   ]
  },
  {
   "cell_type": "code",
   "execution_count": 25,
   "id": "8c2168ef-a306-413b-bd80-dacd2f3684a6",
   "metadata": {},
   "outputs": [],
   "source": [
    "li_copy=li.copy() #referece different .reflect nahi hoga"
   ]
  },
  {
   "cell_type": "code",
   "execution_count": 26,
   "id": "f87857ad-d69e-41bf-a407-d1c8cb9be3b4",
   "metadata": {},
   "outputs": [
    {
     "data": {
      "text/plain": [
       "['red', 'blue', 'green', 'yellow', 'water']"
      ]
     },
     "execution_count": 26,
     "metadata": {},
     "output_type": "execute_result"
    }
   ],
   "source": [
    "li_copy"
   ]
  },
  {
   "cell_type": "markdown",
   "id": "32c05acb-f009-42ab-8cd2-13ea0cbe0d0a",
   "metadata": {},
   "source": [
    "# Dictionary"
   ]
  },
  {
   "cell_type": "code",
   "execution_count": 27,
   "id": "037d78fc-0f87-4727-94fa-284ab060a273",
   "metadata": {},
   "outputs": [
    {
     "data": {
      "text/plain": [
       "{'Masala': 'Spicy', 'Ginger': 'zesty', 'Green': 'Mild'}"
      ]
     },
     "execution_count": 27,
     "metadata": {},
     "output_type": "execute_result"
    }
   ],
   "source": [
    "chai= {'Masala':'Spicy','Ginger':'zesty','Green':'Mild'}\n",
    "chai"
   ]
  },
  {
   "cell_type": "code",
   "execution_count": 28,
   "id": "1d2d8361-6752-470b-8f90-56263e132c96",
   "metadata": {},
   "outputs": [],
   "source": [
    "chai['Green']='Fresh'"
   ]
  },
  {
   "cell_type": "code",
   "execution_count": 29,
   "id": "3883bd1d-b582-46c7-b0b4-c0e5caa6e25a",
   "metadata": {},
   "outputs": [
    {
     "data": {
      "text/plain": [
       "{'Masala': 'Spicy', 'Ginger': 'zesty', 'Green': 'Fresh'}"
      ]
     },
     "execution_count": 29,
     "metadata": {},
     "output_type": "execute_result"
    }
   ],
   "source": [
    "chai"
   ]
  },
  {
   "cell_type": "code",
   "execution_count": 31,
   "id": "7f76d2e9-8a47-4548-b659-1e707a5cf853",
   "metadata": {},
   "outputs": [
    {
     "name": "stdout",
     "output_type": "stream",
     "text": [
      "Masala Spicy\n",
      "Ginger zesty\n",
      "Green Fresh\n"
     ]
    }
   ],
   "source": [
    "for i in chai:\n",
    "    print(i,chai[i])"
   ]
  },
  {
   "cell_type": "code",
   "execution_count": 32,
   "id": "68dba696-45a8-4f55-a328-594adcb5c031",
   "metadata": {},
   "outputs": [
    {
     "name": "stdout",
     "output_type": "stream",
     "text": [
      "Masala Spicy\n",
      "Ginger zesty\n",
      "Green Fresh\n"
     ]
    }
   ],
   "source": [
    "for key,values in chai.items():\n",
    "    print(key,values)"
   ]
  },
  {
   "cell_type": "code",
   "execution_count": 34,
   "id": "3c1aa343-8e74-45fa-bb86-75f0e36cf824",
   "metadata": {},
   "outputs": [
    {
     "name": "stdout",
     "output_type": "stream",
     "text": [
      "Yes, I have Masala chai\n"
     ]
    }
   ],
   "source": [
    "if 'Masala' in chai:\n",
    "    print(\"Yes, I have Masala chai\")"
   ]
  },
  {
   "cell_type": "code",
   "execution_count": 35,
   "id": "4c449f7f-4598-44f0-9314-43521e6a3056",
   "metadata": {},
   "outputs": [
    {
     "name": "stdout",
     "output_type": "stream",
     "text": [
      "3\n"
     ]
    }
   ],
   "source": [
    "print(len(chai))"
   ]
  },
  {
   "cell_type": "code",
   "execution_count": 36,
   "id": "bc30cfc0-1ea5-4fa6-9a46-33b51ec65312",
   "metadata": {},
   "outputs": [],
   "source": [
    "chai['Earl Grey'] = 'Citrus'"
   ]
  },
  {
   "cell_type": "code",
   "execution_count": 37,
   "id": "9e913076-a771-4afd-9ad3-1af93342211e",
   "metadata": {},
   "outputs": [
    {
     "data": {
      "text/plain": [
       "{'Masala': 'Spicy', 'Ginger': 'zesty', 'Green': 'Fresh', 'Earl Grey': 'Citrus'}"
      ]
     },
     "execution_count": 37,
     "metadata": {},
     "output_type": "execute_result"
    }
   ],
   "source": [
    "chai"
   ]
  },
  {
   "cell_type": "code",
   "execution_count": 4,
   "id": "5d76816a-9e9a-4afc-a7fc-6124eb5c0e35",
   "metadata": {},
   "outputs": [
    {
     "name": "stdout",
     "output_type": "stream",
     "text": [
      "21\n"
     ]
    }
   ],
   "source": [
    "def sumall(*args):\n",
    "    return sum(args)\n",
    "\n",
    "print(sumall(1,2,3,4,5,6))"
   ]
  },
  {
   "cell_type": "markdown",
   "id": "f5307a89-7ffd-4dfa-a285-81a83e29f6cb",
   "metadata": {},
   "source": [
    "# String"
   ]
  },
  {
   "cell_type": "code",
   "execution_count": 5,
   "id": "1dc512b7-7bef-4a48-9089-65826cee63aa",
   "metadata": {},
   "outputs": [
    {
     "ename": "TypeError",
     "evalue": "'str' object does not support item assignment",
     "output_type": "error",
     "traceback": [
      "\u001b[1;31m---------------------------------------------------------------------------\u001b[0m",
      "\u001b[1;31mTypeError\u001b[0m                                 Traceback (most recent call last)",
      "Cell \u001b[1;32mIn[5], line 3\u001b[0m\n\u001b[0;32m      1\u001b[0m \u001b[38;5;66;03m# string mutable or not\u001b[39;00m\n\u001b[0;32m      2\u001b[0m s \u001b[38;5;241m=\u001b[39m \u001b[38;5;124m\"\u001b[39m\u001b[38;5;124mHello\u001b[39m\u001b[38;5;124m\"\u001b[39m\n\u001b[1;32m----> 3\u001b[0m \u001b[43ms\u001b[49m\u001b[43m[\u001b[49m\u001b[38;5;241;43m0\u001b[39;49m\u001b[43m]\u001b[49m \u001b[38;5;241m=\u001b[39m \u001b[38;5;124m\"\u001b[39m\u001b[38;5;124mh\u001b[39m\u001b[38;5;124m\"\u001b[39m  \u001b[38;5;66;03m# This will raise an error\u001b[39;00m\n\u001b[0;32m      4\u001b[0m s\n",
      "\u001b[1;31mTypeError\u001b[0m: 'str' object does not support item assignment"
     ]
    }
   ],
   "source": [
    "# string mutable or not\n",
    "s = \"Hello\"\n",
    "s[0] = \"h\"  # This will raise an error\n",
    "s\n"
   ]
  },
  {
   "cell_type": "code",
   "execution_count": 6,
   "id": "552e49c7-23be-40ca-b5f7-103b064521dc",
   "metadata": {},
   "outputs": [
    {
     "name": "stdout",
     "output_type": "stream",
     "text": [
      "hello\n"
     ]
    }
   ],
   "source": [
    "s = \"Hello\"\n",
    "s = \"h\" + s[1:]  # Creates a new string \"hello\"\n",
    "print(s)  # Output: hello"
   ]
  },
  {
   "cell_type": "code",
   "execution_count": null,
   "id": "a17a3a31-cb31-46d1-8fa2-a1f240b04cbb",
   "metadata": {},
   "outputs": [],
   "source": []
  }
 ],
 "metadata": {
  "kernelspec": {
   "display_name": "Python 3 (ipykernel)",
   "language": "python",
   "name": "python3"
  },
  "language_info": {
   "codemirror_mode": {
    "name": "ipython",
    "version": 3
   },
   "file_extension": ".py",
   "mimetype": "text/x-python",
   "name": "python",
   "nbconvert_exporter": "python",
   "pygments_lexer": "ipython3",
   "version": "3.12.8"
  }
 },
 "nbformat": 4,
 "nbformat_minor": 5
}
